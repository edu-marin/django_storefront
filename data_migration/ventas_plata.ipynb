{
 "cells": [
  {
   "cell_type": "markdown",
   "metadata": {},
   "source": [
    "\n",
    "1. **Importación de Archivos:**\n",
    "   - Importar los archivos limpios de plata y acero que se encuentran en la carpeta `data_migration/data/clean_files` en este notebook de Jupyter.\n",
    "   - Verificar que los tipos de columna sean los apropiados y realizar las correcciones necesarias.\n",
    "\n"
   ]
  },
  {
   "cell_type": "code",
   "execution_count": 1,
   "metadata": {},
   "outputs": [],
   "source": [
    "import pandas as pd\n",
    "from typing import List\n",
    "\n",
    "path_plata = \"data/ventas_plata.xlsx\"\n",
    "\n",
    "\n",
    "ventas_plata = pd.read_excel(path_plata)\n",
    "\n",
    "\n"
   ]
  },
  {
   "cell_type": "code",
   "execution_count": 2,
   "metadata": {},
   "outputs": [],
   "source": [
    "\n",
    "# FUNCTIONS\n",
    "def get_sheet_names(file_path: str) -> List[str]:\n",
    "    \"\"\"\n",
    "    Get the names of all sheets in an Excel file.\n",
    "\n",
    "    Args:\n",
    "    file_path (str): The path to the Excel file from which the sheet names are to be retrieved.\n",
    "\n",
    "    Returns:\n",
    "    List[str]: A list of strings, where each string is the name of a sheet in the Excel file.\n",
    "\n",
    "    Functionality:\n",
    "    - Reads an Excel file using pandas.\n",
    "    - Retrieves the names of all sheets in the Excel file.\n",
    "    \"\"\"\n",
    "    # Read the excel file using pandas\n",
    "    xls = pd.ExcelFile(file_path)\n",
    "    \n",
    "    # Get the names of all the sheets in the excel file\n",
    "    sheet_names = xls.sheet_names\n",
    "    \n",
    "    # Return the list of sheet names\n",
    "    return sheet_names\n",
    "\n",
    "\n"
   ]
  },
  {
   "cell_type": "markdown",
   "metadata": {},
   "source": [
    "#. aqui estoy guardando en un objeto llamado sheet_names los nombres de cada una de las spreadsheets\n"
   ]
  },
  {
   "cell_type": "code",
   "execution_count": 3,
   "metadata": {},
   "outputs": [
    {
     "name": "stdout",
     "output_type": "stream",
     "text": [
      "Sheet names:\n",
      "['anillos_plata', 'varios_plata', 'aretes_plata', 'sets_plata', 'pulseras_plata', 'dijes_plata', 'cadenas_plata', 'collares_plata', 'collares_varios_plata', 'juegos_piedras_plata', 'pc_piedras_plata']\n"
     ]
    }
   ],
   "source": [
    "\n",
    "sheet_names = get_sheet_names(path_plata)\n",
    "print(\"Sheet names:\")\n",
    "print(sheet_names)"
   ]
  },
  {
   "cell_type": "code",
   "execution_count": 4,
   "metadata": {},
   "outputs": [
    {
     "name": "stdout",
     "output_type": "stream",
     "text": [
      "Sheet Name: anillos_plata\n",
      "Shape: (362, 188)\n",
      "Column Names: Index([              'COD',               'NUM',               'DET',\n",
      "       2023-03-20 00:00:00, 2023-03-23 00:00:00, 2023-03-28 00:00:00,\n",
      "       2023-03-31 00:00:00, 2023-04-01 00:00:00, 2023-04-04 00:00:00,\n",
      "       2023-04-12 00:00:00,\n",
      "       ...\n",
      "       2024-07-02 00:00:00, 2024-07-03 00:00:00, 2024-07-04 00:00:00,\n",
      "       2024-07-06 00:00:00, 2024-07-13 00:00:00, 2024-07-15 00:00:00,\n",
      "       2024-07-17 00:00:00, 2024-07-20 00:00:00, 2024-07-21 00:00:00,\n",
      "                  'source'],\n",
      "      dtype='object', length=188)\n",
      "\n",
      "Sheet Name: varios_plata\n",
      "Shape: (16, 21)\n",
      "Column Names: Index([              'COD',               'NUM', 2023-03-15 00:00:00,\n",
      "       2023-03-31 00:00:00, 2023-04-13 00:00:00, 2023-05-01 00:00:00,\n",
      "       2023-05-30 00:00:00, 2023-06-05 00:00:00, 2023-08-04 00:00:00,\n",
      "       2023-09-11 00:00:00, 2024-11-20 00:00:00, 2024-03-10 00:00:00,\n",
      "       2024-03-28 00:00:00, 2023-06-29 00:00:00, 2023-11-29 00:00:00,\n",
      "       2024-05-02 00:00:00, 2024-05-07 00:00:00, 2024-05-25 00:00:00,\n",
      "       2024-06-27 00:00:00, 2024-07-05 00:00:00,            'source'],\n",
      "      dtype='object')\n",
      "\n",
      "Sheet Name: aretes_plata\n",
      "Shape: (565, 402)\n",
      "Column Names: Index([              'COD',               'NUM', 2023-03-15 00:00:00,\n",
      "       2023-03-16 00:00:00, 2023-03-17 00:00:00, 2023-03-18 00:00:00,\n",
      "       2023-03-20 00:00:00, 2023-03-21 00:00:00, 2023-03-22 00:00:00,\n",
      "       2023-03-23 00:00:00,\n",
      "       ...\n",
      "       2024-07-12 00:00:00, 2024-07-13 00:00:00, 2024-07-15 00:00:00,\n",
      "       2024-07-16 00:00:00, 2024-07-17 00:00:00, 2024-07-18 00:00:00,\n",
      "       2024-07-19 00:00:00, 2024-07-20 00:00:00, 2024-07-21 00:00:00,\n",
      "                  'source'],\n",
      "      dtype='object', length=402)\n",
      "\n",
      "Sheet Name: sets_plata\n",
      "Shape: (306, 127)\n",
      "Column Names: Index([              'COD',               'NUM', 2023-03-18 00:00:00,\n",
      "       2023-03-25 00:00:00, 2023-04-01 00:00:00, 2023-04-03 00:00:00,\n",
      "       2023-04-04 00:00:00, 2023-04-25 00:00:00, 2023-04-26 00:00:00,\n",
      "       2024-04-27 00:00:00,\n",
      "       ...\n",
      "       2024-07-02 00:00:00, 2024-07-06 00:00:00, 2024-07-10 00:00:00,\n",
      "       2024-07-11 00:00:00, 2024-07-12 00:00:00, 2024-07-19 00:00:00,\n",
      "       2024-07-20 00:00:00,             'COD.1',      'Unnamed: 125',\n",
      "                  'source'],\n",
      "      dtype='object', length=127)\n",
      "\n",
      "Sheet Name: pulseras_plata\n",
      "Shape: (230, 185)\n",
      "Column Names: Index([              'COD',               'NUM', 2023-03-17 00:00:00,\n",
      "       2023-03-20 00:00:00, 2023-03-24 00:00:00, 2023-03-25 00:00:00,\n",
      "       2023-03-30 00:00:00, 2023-03-31 00:00:00, 2023-04-01 00:00:00,\n",
      "       2023-04-03 00:00:00,\n",
      "       ...\n",
      "       2024-06-25 00:00:00, 2024-06-27 00:00:00, 2024-07-03 00:00:00,\n",
      "       2024-07-08 00:00:00, 2024-07-09 00:00:00, 2024-07-10 00:00:00,\n",
      "       2024-07-14 00:00:00, 2024-07-15 00:00:00, 2024-07-19 00:00:00,\n",
      "                  'source'],\n",
      "      dtype='object', length=185)\n",
      "\n",
      "Sheet Name: dijes_plata\n",
      "Shape: (722, 278)\n",
      "Column Names: Index([              'COD',               'NUM', 2023-03-16 00:00:00,\n",
      "       2023-03-17 00:00:00, 2023-03-21 00:00:00, 2023-03-22 00:00:00,\n",
      "       2023-03-23 00:00:00, 2023-03-27 00:00:00, 2023-04-01 00:00:00,\n",
      "       2023-04-03 00:00:00,\n",
      "       ...\n",
      "       2024-07-10 00:00:00, 2024-07-12 00:00:00, 2024-07-13 00:00:00,\n",
      "       2024-07-14 00:00:00, 2024-07-15 00:00:00, 2024-07-16 00:00:00,\n",
      "       2024-07-17 00:00:00, 2024-07-18 00:00:00, 2024-07-19 00:00:00,\n",
      "                  'source'],\n",
      "      dtype='object', length=278)\n",
      "\n",
      "Sheet Name: cadenas_plata\n",
      "Shape: (200, 264)\n",
      "Column Names: Index([              'COD',               'NUM', 2023-03-16 00:00:00,\n",
      "       2023-03-17 00:00:00, 2023-03-21 00:00:00, 2023-03-23 00:00:00,\n",
      "       2023-03-27 00:00:00, 2023-03-31 00:00:00, 2023-04-03 00:00:00,\n",
      "       2023-04-04 00:00:00,\n",
      "       ...\n",
      "       2024-07-10 00:00:00, 2024-07-13 00:00:00, 2024-07-14 00:00:00,\n",
      "       2024-07-15 00:00:00, 2024-07-17 00:00:00, 2024-07-18 00:00:00,\n",
      "       2024-07-19 00:00:00,             'COD.1',      'Unnamed: 262',\n",
      "                  'source'],\n",
      "      dtype='object', length=264)\n",
      "\n",
      "Sheet Name: collares_plata\n",
      "Shape: (135, 67)\n",
      "Column Names: Index([              'COD',               'NUM', 2023-03-21 00:00:00,\n",
      "       2023-03-23 00:00:00, 2023-03-24 00:00:00, 2023-03-31 00:00:00,\n",
      "       2023-04-19 00:00:00, 2023-04-21 00:00:00, 2023-04-24 00:00:00,\n",
      "       2023-04-25 00:00:00, 2023-05-07 00:00:00, 2023-06-08 00:00:00,\n",
      "       2023-06-17 00:00:00, 2023-06-22 00:00:00, 2023-06-29 00:00:00,\n",
      "       2023-07-07 00:00:00, 2023-07-18 00:00:00, 2023-07-20 00:00:00,\n",
      "       2023-08-02 00:00:00, 2023-08-07 00:00:00, 2023-08-25 00:00:00,\n",
      "       2024-09-15 00:00:00, 2024-09-18 00:00:00, 2024-09-19 00:00:00,\n",
      "       2024-09-30 00:00:00, 2024-10-28 00:00:00, 2024-11-19 00:00:00,\n",
      "       2024-11-21 00:00:00, 2024-12-09 00:00:00, 2024-12-15 00:00:00,\n",
      "       2024-12-19 00:00:00, 2024-12-20 00:00:00, 2023-12-21 00:00:00,\n",
      "       2024-12-22 00:00:00, 2024-12-23 00:00:00, 2024-12-24 00:00:00,\n",
      "       2024-01-18 00:00:00, 2024-01-23 00:00:00, 2024-01-24 00:00:00,\n",
      "       2024-01-25 00:00:00, 2024-01-31 00:00:00, 2024-02-06 00:00:00,\n",
      "       2024-02-19 00:00:00, 2024-02-21 00:00:00, 2024-02-24 00:00:00,\n",
      "       2024-02-28 00:00:00, 2024-03-02 00:00:00, 2024-03-08 00:00:00,\n",
      "       2024-03-19 00:00:00, 2024-03-22 00:00:00, 2024-03-30 00:00:00,\n",
      "       2024-04-04 00:00:00, 2024-04-21 00:00:00, 2024-04-29 00:00:00,\n",
      "       2024-05-09 00:00:00, 2024-05-10 00:00:00, 2024-05-23 00:00:00,\n",
      "       2024-06-03 00:00:00, 2024-06-19 00:00:00, 2024-06-25 00:00:00,\n",
      "       2024-06-26 00:00:00, 2024-07-03 00:00:00, 2024-07-05 00:00:00,\n",
      "       2024-07-10 00:00:00, 2024-07-17 00:00:00, 2024-07-20 00:00:00,\n",
      "                  'source'],\n",
      "      dtype='object')\n",
      "\n",
      "Sheet Name: collares_varios_plata\n",
      "Shape: (29, 17)\n",
      "Column Names: Index([              'COD',               'NUM', 2023-04-19 00:00:00,\n",
      "       2023-06-07 00:00:00, 2023-06-13 00:00:00, 2023-06-19 00:00:00,\n",
      "       2023-06-21 00:00:00, 2023-07-12 00:00:00, 2023-10-05 00:00:00,\n",
      "       2023-11-13 00:00:00, 2023-12-15 00:00:00, 2024-01-14 00:00:00,\n",
      "       2024-03-19 00:00:00, 2024-04-13 00:00:00, 2024-05-07 00:00:00,\n",
      "       2024-07-04 00:00:00,            'source'],\n",
      "      dtype='object')\n",
      "\n",
      "Sheet Name: juegos_piedras_plata\n",
      "Shape: (29, 11)\n",
      "Column Names: Index([              'COD',               'NUM', 2023-05-22 00:00:00,\n",
      "       2024-11-15 00:00:00, 2024-06-04 00:00:00, 2024-06-20 00:00:00,\n",
      "       2024-07-11 00:00:00, 2024-07-16 00:00:00, 2024-07-18 00:00:00,\n",
      "       2024-07-19 00:00:00,            'source'],\n",
      "      dtype='object')\n",
      "\n",
      "Sheet Name: pc_piedras_plata\n",
      "Shape: (68, 290)\n",
      "Column Names: Index([           'CODIGO',               'NUM', 2023-03-15 00:00:00,\n",
      "       2023-03-17 00:00:00, 2023-03-21 00:00:00, 2023-03-24 00:00:00,\n",
      "       2023-03-28 00:00:00, 2024-03-29 00:00:00, 2023-03-30 00:00:00,\n",
      "       2023-03-31 00:00:00,\n",
      "       ...\n",
      "       2024-07-08 00:00:00, 2024-07-10 00:00:00, 2024-07-11 00:00:00,\n",
      "       2024-07-13 00:00:00, 2024-07-15 00:00:00, 2024-07-16 00:00:00,\n",
      "       2024-07-18 00:00:00, 2024-07-19 00:00:00, 2024-07-20 00:00:00,\n",
      "                  'source'],\n",
      "      dtype='object', length=290)\n",
      "\n"
     ]
    }
   ],
   "source": [
    "# 3. Use a for loop to read spreadsheets in sheet_names and append them in a list\n",
    "# Replace the word \"inventario\" in column names with \"ingreso\" to simplify consolidation\n",
    "list_of_df = []\n",
    "for s in sheet_names:\n",
    "    print(f\"Sheet Name: {s}\")\n",
    "    # Read sheet and add new column with sheet name\n",
    "    df = pd.read_excel(path_plata, sheet_name=s)\n",
    "    df[\"source\"] = s\n",
    "    \n",
    "    # Append and print info\n",
    "    list_of_df.append(df)\n",
    "    print(f\"Shape: {df.shape}\")\n",
    "    print(f\"Column Names: {df.columns}\\n\")"
   ]
  },
  {
   "cell_type": "code",
   "execution_count": 6,
   "metadata": {},
   "outputs": [
    {
     "name": "stdout",
     "output_type": "stream",
     "text": [
      "Sheet Name: all\n",
      "Shape: (2662, 469)\n"
     ]
    },
    {
     "data": {
      "text/plain": [
       "Index([                  'COD',                   'NUM',\n",
       "                         'DET',     2023-03-20 00:00:00,\n",
       "           2023-03-23 00:00:00,     2023-03-28 00:00:00,\n",
       "           2023-03-31 00:00:00,     2023-04-01 00:00:00,\n",
       "           2023-04-04 00:00:00,     2023-04-12 00:00:00,\n",
       "       ...\n",
       "           2024-03-29 00:00:00,     2024-07-24 00:00:00,\n",
       "           2024-10-09 00:00:00,     2024-10-14 00:00:00,\n",
       "           2024-11-05 00:00:00,     2024-11-12 00:00:00,\n",
       "           2024-04-01 00:00:00,     2024-06-02 00:00:00,\n",
       "       '2024-06-15 00:00:00.1',     2024-07-27 00:00:00],\n",
       "      dtype='object', length=469)"
      ]
     },
     "execution_count": 6,
     "metadata": {},
     "output_type": "execute_result"
    }
   ],
   "source": [
    "all = pd.concat(list_of_df)\n",
    "print(f\"Sheet Name: all\")\n",
    "print(f\"Shape: {all.shape}\")\n",
    "all.columns"
   ]
  },
  {
   "cell_type": "markdown",
   "metadata": {},
   "source": [
    "1. renombrar columnas para que no tengan la hora \n",
    "2. limpieza de filas cuya suma de ventas es igual a 0 antes de poner la informacion en list_of_df"
   ]
  },
  {
   "cell_type": "code",
   "execution_count": null,
   "metadata": {},
   "outputs": [],
   "source": []
  }
 ],
 "metadata": {
  "kernelspec": {
   "display_name": "Python 3",
   "language": "python",
   "name": "python3"
  },
  "language_info": {
   "codemirror_mode": {
    "name": "ipython",
    "version": 3
   },
   "file_extension": ".py",
   "mimetype": "text/x-python",
   "name": "python",
   "nbconvert_exporter": "python",
   "pygments_lexer": "ipython3",
   "version": "3.10.13"
  }
 },
 "nbformat": 4,
 "nbformat_minor": 2
}
