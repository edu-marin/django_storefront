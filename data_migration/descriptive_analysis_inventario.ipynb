{
 "cells": [
  {
   "cell_type": "markdown",
   "metadata": {},
   "source": [
    "### Tareas: Análisis Descriptivo del Inventario Consolidado\n",
    "\n",
    "**Descripción:**\n",
    "\n",
    "#### Objetivo:\n",
    "Realizar un análisis descriptivo detallado del archivo consolidado de inventario de joyería para obtener información valiosa sobre los proveedores, costos, precios de venta al público y distribución de tipos de joya.\n",
    "\n",
    "#### Tareas:\n",
    "\n",
    "1. **Análisis de Proveedores:**\n",
    "   - Contar la cantidad de ítems que tiene cada proveedor.\n",
    "\n",
    "2. **Proveedores con Mayor Valor de Compra:**\n",
    "   - Identificar al proveedor al que más se le ha comprado en dólares utilizando la columna `costo`.\n",
    "\n",
    "3. **Distribución de Costos y Precios de Venta al Público:**\n",
    "   - Generar un histograma para visualizar la distribución de los costos y los precios de venta al público (PVP) de las joyas de acero y plata.\n",
    "\n",
    "4. **Estadísticas Descriptivas por Tipo de Joya y Categoría:**\n",
    "   - Calcular el mínimo, Q25, mediana, Q75 y máximo de cada tipo de joya (`source`) por cada categoría (`plata` y `acero`).\n",
    "\n",
    "5. **Tipo de Joya más Común por Material:**\n",
    "   - Identificar el tipo de joya (anillos, pulseras, etc.) más común para cada material (`plata` y `acero`).\n",
    "\n",
    "6. **Análisis de Proporción de Inventario por Material:**\n",
    "   - Calcular la proporción del inventario total que corresponde a `plata` y `acero`.\n",
    "\n",
    "7. **Análisis de Proporción de Inventario por Tipo de Joya:**\n",
    "   - Calcular la proporción de cada tipo de joya (anillos, pulseras, cadenas, etc.) en el inventario total.\n",
    "\n",
    "8. **Análisis de Costo Promedio por Tipo de Joya y Categoría:**\n",
    "   - Calcular el costo promedio por cada tipo de joya (`source`) y categoría (`plata` y `acero`).\n",
    "\n",
    "9. **Comparación de Márgenes de Ganancia:**\n",
    "   - Comparar los márgenes de ganancia entre las joyas de `plata` y `acero` calculando la diferencia entre el `costo` y el `PVP`.\n",
    "\n",
    "10. **Análisis de Tendencias Temporales (si aplica):**\n",
    "    - Si se dispone de datos temporales, analizar las tendencias de compra y venta de joyas a lo largo del tiempo.\n",
    "\n",
    "11. **Identificación de Outliers en Costos y PVP:**\n",
    "    - Utilizar métodos estadísticos para identificar valores atípicos en los costos y precios de venta al público.\n",
    "\n",
    "12. **Correlación entre Variables de Costo y PVP:**\n",
    "    - Analizar la correlación entre el `costo` y el `PVP` para entender la relación entre estas variables.\n",
    "\n",
    "13. **Segmentación de Proveedores por Volumen de Venta:**\n",
    "    - Segmentar a los proveedores según el volumen de venta para identificar a los principales proveedores.\n",
    "\n",
    "**Responsable:** Esteban Marín\n",
    "\n",
    "**Fecha de Entrega:** Miércoles 7 de agosto de 2024.\n",
    "\n",
    "**Notas Adicionales:**\n",
    "Documentar todos los análisis realizados y sus resultados en el notebook de Jupyter para futuras referencias y toma de decisiones estratégicas."
   ]
  },
  {
   "cell_type": "markdown",
   "metadata": {},
   "source": []
  }
 ],
 "metadata": {
  "language_info": {
   "name": "python"
  }
 },
 "nbformat": 4,
 "nbformat_minor": 2
}
