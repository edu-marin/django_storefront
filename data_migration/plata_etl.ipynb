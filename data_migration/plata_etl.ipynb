{
 "cells": [
  {
   "cell_type": "code",
   "execution_count": 2,
   "metadata": {},
   "outputs": [],
   "source": [
    "import pandas as pd\n",
    "from typing import List\n",
    "\n",
    "# FUNCTIONS\n",
    "def get_sheet_names(file_path: str) -> List[str]:\n",
    "    \"\"\"\n",
    "    Get the names of all sheets in an Excel file.\n",
    "\n",
    "    Args:\n",
    "    file_path (str): The path to the Excel file from which the sheet names are to be retrieved.\n",
    "\n",
    "    Returns:\n",
    "    List[str]: A list of strings, where each string is the name of a sheet in the Excel file.\n",
    "\n",
    "    Functionality:\n",
    "    - Reads an Excel file using pandas.\n",
    "    - Retrieves the names of all sheets in the Excel file.\n",
    "    \"\"\"\n",
    "    # Read the excel file using pandas\n",
    "    xls = pd.ExcelFile(file_path)\n",
    "    \n",
    "    # Get the names of all the sheets in the excel file\n",
    "    sheet_names = xls.sheet_names\n",
    "    \n",
    "    # Return the list of sheet names\n",
    "    return sheet_names\n",
    "\n"
   ]
  },
  {
   "cell_type": "markdown",
   "metadata": {},
   "source": [
    "# 1. Extract"
   ]
  },
  {
   "cell_type": "code",
   "execution_count": 3,
   "metadata": {},
   "outputs": [
    {
     "name": "stdout",
     "output_type": "stream",
     "text": [
      "Sheet names:\n",
      "['anillos_plata', 'dijes_plata', 'juegos_plata', 'collares_plata', 'aretes_plata', 'cadena_plata', 'pulseras_plata', 'varios_plata', 'juegos_piedras_perlas']\n"
     ]
    }
   ],
   "source": [
    "# 1. Get sheet names from xlsx file\n",
    "file_path = \"data/ingreso_joyas_plata.xlsx\"\n",
    "sheet_names = get_sheet_names(file_path)\n",
    "print(\"Sheet names:\")\n",
    "print(sheet_names)"
   ]
  },
  {
   "cell_type": "code",
   "execution_count": 4,
   "metadata": {},
   "outputs": [
    {
     "name": "stdout",
     "output_type": "stream",
     "text": [
      "Sheet Name: anillos_plata\n",
      "Shape: (601, 15)\n",
      "Column Names: Index(['fecha_compra', 'codigo', 'talla', 'inventario_14/03/23',\n",
      "       'ingreso_25/04/23', 'ingreso_27/03/24', 'ingreso_09/05/24', 'peso',\n",
      "       'costo_gramo', 'costo', 'pvp', 'detalle', 'proveedor', 'nota',\n",
      "       'source'],\n",
      "      dtype='object')\n",
      "\n",
      "Sheet Name: dijes_plata\n",
      "Shape: (719, 19)\n",
      "Column Names: Index(['fecha_compra', 'codigo', 'inventario_14/03/23', 'ingreso_28/04/23',\n",
      "       'ingreso_15/06/23', 'ingreso_18/08/23', 'ingreso_28/09/23',\n",
      "       'ingreso_19/12/23', 'ingreso_07/03/24', 'ingreso_10/05/24',\n",
      "       'ingreso_20/06/24', 'peso', 'costo_gramo', 'costo', 'pvp', 'detalle',\n",
      "       'proveedor', 'nota', 'source'],\n",
      "      dtype='object')\n",
      "\n",
      "Sheet Name: juegos_plata\n",
      "Shape: (215, 18)\n",
      "Column Names: Index(['fecha_compra', 'codigo', 'ingreso_14/03/23', 'ingreso_28/04/23',\n",
      "       'ingreso_20/06/23', 'ingreso_28/09/23', 'ingreso_18/11/23',\n",
      "       'ingreso_15/12/23', 'ingreso_07/03/24', 'ingreso_16/05/24', 'peso',\n",
      "       'costo_gramo', 'costo', 'pvp', 'detalle', 'proveedor', 'nota',\n",
      "       'source'],\n",
      "      dtype='object')\n",
      "\n",
      "Sheet Name: collares_plata\n",
      "Shape: (86, 16)\n",
      "Column Names: Index(['fecha_compra', 'codigo', 'inventario_14/03/23', 'ingreso_26/04/23',\n",
      "       'ingreso_20/06/23', 'ingreso_18/11/23', 'ingreso_15/12/23',\n",
      "       'ingreso_10/05/24', 'peso', 'costo_gramo', 'costo', 'pvp', 'detalle',\n",
      "       'proveedor', 'nota', 'source'],\n",
      "      dtype='object')\n",
      "\n",
      "Sheet Name: aretes_plata\n",
      "Shape: (558, 20)\n",
      "Column Names: Index(['fecha_compra', 'codigo', 'inventario_14/03/23', 'ingreso_26/04/23',\n",
      "       'ingreso_20/06/23', 'ingreso_18/08/23', 'ingreso_28/09/23',\n",
      "       'ingreso_18/11/23', 'ingreso_15/12/23', 'ingreso_07/03/24',\n",
      "       'ingreso_16/05/24', 'ingreso_05/06/24', 'peso', 'costo_gramo', 'costo',\n",
      "       'pvp', 'detalle', 'proveedor', 'nota', 'source'],\n",
      "      dtype='object')\n",
      "\n",
      "Sheet Name: cadena_plata\n",
      "Shape: (171, 16)\n",
      "Column Names: Index(['fecha_compra', 'codigo', 'inventario_14/03/23', 'ingreso_21/04/23',\n",
      "       'ingreso_18/11/23', 'ingreso_19/12/23', 'ingreso_16/05/24',\n",
      "       'ingreso_14/06/24', 'peso', 'costo_gramo', 'costo', 'pvp', 'detalle',\n",
      "       'proveedor', 'nota', 'source'],\n",
      "      dtype='object')\n",
      "\n",
      "Sheet Name: pulseras_plata\n",
      "Shape: (199, 20)\n",
      "Column Names: Index(['fecha_compra', 'codigo', 'inventario_14/03/23', 'ingreso_25/04/23',\n",
      "       'ingreso_20/06/23', 'ingreso_18/08/23', 'ingreso_28/09/23',\n",
      "       'ingreso_18/11/23', 'ingreso_15/12/23', 'ingreso_26/03/24',\n",
      "       'ingreso_16/05/24', 'ingreso_14/06/24', 'peso', 'costo_gramo', 'costo',\n",
      "       'pvp', 'detalle', 'proveedor', 'nota', 'source'],\n",
      "      dtype='object')\n",
      "\n",
      "Sheet Name: varios_plata\n",
      "Shape: (10, 13)\n",
      "Column Names: Index(['fecha_compra', 'codigo', 'ingreso_23/02/23', 'ingreso_28/09/23',\n",
      "       'ingreso_15/12/23', 'ingreso_08/03/24', 'peso', 'costo_gramo', 'costo',\n",
      "       'pvp', 'detalle', 'proveedor', 'source'],\n",
      "      dtype='object')\n",
      "\n",
      "Sheet Name: juegos_piedras_perlas\n",
      "Shape: (9, 9)\n",
      "Column Names: Index(['fecha_compra', 'codigo', 'ingreso_29/03/23', 'ingreso_04/06/24',\n",
      "       'costo', 'pvp', 'detalle', 'proveedor', 'source'],\n",
      "      dtype='object')\n",
      "\n"
     ]
    }
   ],
   "source": [
    "# 2. Read spreadsheets and consolidate files\n",
    "list_of_df = []\n",
    "for s in sheet_names:\n",
    "    print(f\"Sheet Name: {s}\")\n",
    "    df = pd.read_excel(file_path, sheet_name=s)\n",
    "    df[\"source\"] = s.replace(' ','_')\n",
    "    list_of_df.append(df)\n",
    "    print(f\"Shape: {df.shape}\")\n",
    "    print(f\"Column Names: {df.columns}\\n\")"
   ]
  },
  {
   "cell_type": "code",
   "execution_count": 5,
   "metadata": {},
   "outputs": [
    {
     "name": "stdout",
     "output_type": "stream",
     "text": [
      "Sheet Name: all\n",
      "Shape: (2568, 37)\n",
      "<class 'pandas.core.frame.DataFrame'>\n",
      "Index: 2568 entries, 0 to 8\n",
      "Data columns (total 37 columns):\n",
      " #   Column               Non-Null Count  Dtype         \n",
      "---  ------               --------------  -----         \n",
      " 0   fecha_compra         2564 non-null   datetime64[ns]\n",
      " 1   codigo               2567 non-null   object        \n",
      " 2   talla                599 non-null    object        \n",
      " 3   inventario_14/03/23  1875 non-null   float64       \n",
      " 4   ingreso_25/04/23     74 non-null     float64       \n",
      " 5   ingreso_27/03/24     1 non-null      float64       \n",
      " 6   ingreso_09/05/24     51 non-null     float64       \n",
      " 7   peso                 2501 non-null   float64       \n",
      " 8   costo_gramo          2556 non-null   float64       \n",
      " 9   costo                2568 non-null   float64       \n",
      " 10  pvp                  2567 non-null   float64       \n",
      " 11  detalle              2567 non-null   object        \n",
      " 12  proveedor            2568 non-null   object        \n",
      " 13  nota                 445 non-null    object        \n",
      " 14  source               2568 non-null   object        \n",
      " 15  ingreso_28/04/23     95 non-null     float64       \n",
      " 16  ingreso_15/06/23     59 non-null     float64       \n",
      " 17  ingreso_18/08/23     73 non-null     float64       \n",
      " 18  ingreso_28/09/23     33 non-null     float64       \n",
      " 19  ingreso_19/12/23     61 non-null     float64       \n",
      " 20  ingreso_07/03/24     66 non-null     float64       \n",
      " 21  ingreso_10/05/24     74 non-null     float64       \n",
      " 22  ingreso_20/06/24     13 non-null     float64       \n",
      " 23  ingreso_14/03/23     166 non-null    float64       \n",
      " 24  ingreso_20/06/23     33 non-null     float64       \n",
      " 25  ingreso_18/11/23     108 non-null    float64       \n",
      " 26  ingreso_15/12/23     136 non-null    float64       \n",
      " 27  ingreso_16/05/24     62 non-null     float64       \n",
      " 28  ingreso_26/04/23     60 non-null     float64       \n",
      " 29  ingreso_05/06/24     19 non-null     float64       \n",
      " 30  ingreso_21/04/23     23 non-null     float64       \n",
      " 31  ingreso_14/06/24     16 non-null     float64       \n",
      " 32  ingreso_26/03/24     3 non-null      float64       \n",
      " 33  ingreso_23/02/23     3 non-null      float64       \n",
      " 34  ingreso_08/03/24     4 non-null      float64       \n",
      " 35  ingreso_29/03/23     8 non-null      float64       \n",
      " 36  ingreso_04/06/24     1 non-null      float64       \n",
      "dtypes: datetime64[ns](1), float64(30), object(6)\n",
      "memory usage: 762.4+ KB\n"
     ]
    }
   ],
   "source": [
    "# Consolidate\n",
    "all = pd.concat(list_of_df)\n",
    "print(f\"Sheet Name: all\")\n",
    "print(f\"Shape: {all.shape}\")\n",
    "all.info()"
   ]
  },
  {
   "cell_type": "markdown",
   "metadata": {},
   "source": [
    "# 2. Transform (data quality)"
   ]
  },
  {
   "cell_type": "code",
   "execution_count": 8,
   "metadata": {},
   "outputs": [
    {
     "data": {
      "text/html": [
       "<div>\n",
       "<style scoped>\n",
       "    .dataframe tbody tr th:only-of-type {\n",
       "        vertical-align: middle;\n",
       "    }\n",
       "\n",
       "    .dataframe tbody tr th {\n",
       "        vertical-align: top;\n",
       "    }\n",
       "\n",
       "    .dataframe thead th {\n",
       "        text-align: right;\n",
       "    }\n",
       "</style>\n",
       "<table border=\"1\" class=\"dataframe\">\n",
       "  <thead>\n",
       "    <tr style=\"text-align: right;\">\n",
       "      <th></th>\n",
       "      <th>source</th>\n",
       "      <th>proveedor</th>\n",
       "    </tr>\n",
       "  </thead>\n",
       "  <tbody>\n",
       "    <tr>\n",
       "      <th>495</th>\n",
       "      <td>anillos_plata</td>\n",
       "      <td>CAMBIO CODIGOS VIEJOS</td>\n",
       "    </tr>\n",
       "  </tbody>\n",
       "</table>\n",
       "</div>"
      ],
      "text/plain": [
       "            source              proveedor\n",
       "495  anillos_plata  CAMBIO CODIGOS VIEJOS"
      ]
     },
     "execution_count": 8,
     "metadata": {},
     "output_type": "execute_result"
    }
   ],
   "source": [
    "# missing código\n",
    "all[all.codigo.isnull()][[\"source\", \"proveedor\"]]\n",
    "\n"
   ]
  },
  {
   "cell_type": "code",
   "execution_count": null,
   "metadata": {},
   "outputs": [],
   "source": [
    "\n"
   ]
  },
  {
   "cell_type": "markdown",
   "metadata": {},
   "source": [
    "costo missing\n",
    "costo = 0\n",
    "missing peso\n",
    "peso 0"
   ]
  },
  {
   "cell_type": "markdown",
   "metadata": {},
   "source": [
    "## Consolidate provider name"
   ]
  },
  {
   "cell_type": "code",
   "execution_count": 18,
   "metadata": {},
   "outputs": [
    {
     "data": {
      "text/plain": [
       "proveedor\n",
       "cirkon                   506\n",
       "s.s.                     403\n",
       "CAMBIO CODIGOS VIEJOS    251\n",
       "alpha                    178\n",
       "Cirkon                   177\n",
       "                        ... \n",
       "panam                      1\n",
       "taller                     1\n",
       "sempertegui 2,60           1\n",
       "Palac.Joyas                1\n",
       "G.Parra                    1\n",
       "Name: count, Length: 66, dtype: int64"
      ]
     },
     "execution_count": 18,
     "metadata": {},
     "output_type": "execute_result"
    }
   ],
   "source": [
    "## b. Clean\n",
    "all.proveedor.value_counts(dropna=False)\n",
    "rename_provedor_dict = {\n",
    "    's.s.' : 'Soledad PRUEBA',\n",
    "}\n",
    "all.proveedor.value_counts(dropna=True)\n",
    "\n"
   ]
  },
  {
   "cell_type": "markdown",
   "metadata": {},
   "source": [
    "# 3. Load"
   ]
  },
  {
   "cell_type": "code",
   "execution_count": null,
   "metadata": {},
   "outputs": [],
   "source": [
    "# 4. Save dataframe as Excel\n",
    "all.to_excel(\"/workspaces/Voga/data_migration/data/all_acero.xlsx\", index=False)"
   ]
  }
 ],
 "metadata": {
  "kernelspec": {
   "display_name": "Python 3",
   "language": "python",
   "name": "python3"
  },
  "language_info": {
   "codemirror_mode": {
    "name": "ipython",
    "version": 3
   },
   "file_extension": ".py",
   "mimetype": "text/x-python",
   "name": "python",
   "nbconvert_exporter": "python",
   "pygments_lexer": "ipython3",
   "version": "3.10.13"
  }
 },
 "nbformat": 4,
 "nbformat_minor": 2
}
