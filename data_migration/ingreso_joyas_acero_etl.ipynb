{
 "cells": [
  {
   "cell_type": "code",
   "execution_count": 1,
   "metadata": {},
   "outputs": [],
   "source": [
    "import pandas as pd\n",
    "from typing import List\n",
    "\n",
    "# FUNCTIONS\n",
    "def get_sheet_names(file_path: str) -> List[str]:\n",
    "    \"\"\"\n",
    "    Get the names of all sheets in an Excel file.\n",
    "\n",
    "    Args:\n",
    "    file_path (str): The path to the Excel file from which the sheet names are to be retrieved.\n",
    "\n",
    "    Returns:\n",
    "    List[str]: A list of strings, where each string is the name of a sheet in the Excel file.\n",
    "\n",
    "    Functionality:\n",
    "    - Reads an Excel file using pandas.\n",
    "    - Retrieves the names of all sheets in the Excel file.\n",
    "    \"\"\"\n",
    "    # Read the excel file using pandas\n",
    "    xls = pd.ExcelFile(file_path)\n",
    "    \n",
    "    # Get the names of all the sheets in the excel file\n",
    "    sheet_names = xls.sheet_names\n",
    "    \n",
    "    # Return the list of sheet names\n",
    "    return sheet_names\n"
   ]
  },
  {
   "cell_type": "markdown",
   "metadata": {},
   "source": [
    "# 1. Extract"
   ]
  },
  {
   "cell_type": "code",
   "execution_count": 2,
   "metadata": {},
   "outputs": [
    {
     "name": "stdout",
     "output_type": "stream",
     "text": [
      "Sheet names:\n",
      "['aretes', 'aretes_pistola', 'cadenas acero', 'dijes', 'pulseras', 'pulseras_varios', 'collares', 'collares_varios', 'anillos', 'juegos', 'Varios acero', 'proveedores']\n"
     ]
    }
   ],
   "source": [
    "# 1. Get sheet names from xlsx file\n",
    "file_path = \"data/ingreso_joyas_acero.xlsx\"\n",
    "sheet_names = get_sheet_names(file_path)\n",
    "print(\"Sheet names:\")\n",
    "print(sheet_names)"
   ]
  },
  {
   "cell_type": "code",
   "execution_count": 3,
   "metadata": {},
   "outputs": [
    {
     "data": {
      "text/plain": [
       "(51, 3)"
      ]
     },
     "execution_count": 3,
     "metadata": {},
     "output_type": "execute_result"
    }
   ],
   "source": [
    "# 2. Use pop method to exclude last sheet (proveedores) from the data consolidation process\n",
    "# Then read provedores sheet in adifferent df\n",
    "proveedores_name = sheet_names.pop()\n",
    "proveedores_df = pd.read_excel(file_path, sheet_name=proveedores_name)\n",
    "proveedores_df.shape "
   ]
  },
  {
   "cell_type": "code",
   "execution_count": 4,
   "metadata": {},
   "outputs": [
    {
     "name": "stdout",
     "output_type": "stream",
     "text": [
      "Sheet Name: aretes\n",
      "Shape: (374, 15)\n",
      "Column Names: Index(['fecha_compra', 'codigo', 'ingreso_14/03/23', 'ingreso_02/05/23',\n",
      "       'ingreso_19/07/23', 'ingreso_22/08/23', 'ingreso_22/02/24',\n",
      "       'ingreso_27/05/24', 'ingreso_21/06/24', 'costo', 'pvp', 'detalle',\n",
      "       'proveedor', 'nota', 'source'],\n",
      "      dtype='object')\n",
      "\n",
      "Sheet Name: aretes_pistola\n",
      "Shape: (1, 11)\n",
      "Column Names: Index(['fecha_compra', 'codigo', 'ingreso_14/03/23', 'ingreso_09/05/23',\n",
      "       'ingreso_30/05/24', 'costo', 'pvp', 'detalle', 'proveedor', 'nota',\n",
      "       'source'],\n",
      "      dtype='object')\n",
      "\n",
      "Sheet Name: cadenas acero\n",
      "Shape: (45, 11)\n",
      "Column Names: Index(['fecha_compra', 'codigo', 'ingreso_14/03/23', 'ingreso_17/07/23',\n",
      "       'ingreso_20/02/24', 'costo', 'pvp', 'detalle', 'proveedor', 'nota',\n",
      "       'source'],\n",
      "      dtype='object')\n",
      "\n",
      "Sheet Name: dijes\n",
      "Shape: (57, 12)\n",
      "Column Names: Index(['fecha_compra', 'codigo', 'ingreso_14/03/23', 'ingreso_17/07/23',\n",
      "       'ingreso_20/02/24', 'ingreso_27/05/2024', 'costo', 'pvp', 'detalle',\n",
      "       'proveedor', 'nota', 'source'],\n",
      "      dtype='object')\n",
      "\n",
      "Sheet Name: pulseras\n",
      "Shape: (80, 16)\n",
      "Column Names: Index(['fecha_compra', 'codigo', 'ingreso_14/03/23', 'ingreso_02/05/23',\n",
      "       'ingreso_17/07/23', 'ingreso_22/08/23', 'ingreso_20/02/24',\n",
      "       'ingreso_12/03/24', 'ingreso_31/05/24', 'ingreso_20/06/24', 'costo',\n",
      "       'pvp', 'detalle', 'proveedor', 'nota', 'source'],\n",
      "      dtype='object')\n",
      "\n",
      "Sheet Name: pulseras_varios\n",
      "Shape: (61, 11)\n",
      "Column Names: Index(['fecha_compra', 'codigo', 'ingreso_14/03/23', 'ingreso_17/07/23',\n",
      "       'ingreso_31/01/24', 'costo', 'pvp', 'detalle', 'proveedor', 'nota',\n",
      "       'source'],\n",
      "      dtype='object')\n",
      "\n",
      "Sheet Name: collares\n",
      "Shape: (61, 14)\n",
      "Column Names: Index(['fecha_compra', 'codigo', 'ingreso_14/03/23', 'ingreso_02/05/23',\n",
      "       'ingreso_15/07/23', 'ingreso_22/08/23', 'ingreso_20/02/24',\n",
      "       'ingreso 27/05/24', 'costo', 'pvp', 'detalle', 'proveedor', 'nota',\n",
      "       'source'],\n",
      "      dtype='object')\n",
      "\n",
      "Sheet Name: collares_varios\n",
      "Shape: (1, 9)\n",
      "Column Names: Index(['fecha_compra', 'codigo', 'ingreso_24/09/22', 'costo', 'pvp', 'detalle',\n",
      "       'proveedor', 'nota', 'source'],\n",
      "      dtype='object')\n",
      "\n",
      "Sheet Name: anillos\n",
      "Shape: (50, 12)\n",
      "Column Names: Index(['fecha_compra', 'codigo', 'ingreso_14/03/23', 'ingreso_09/05/23',\n",
      "       'ingreso_15/07/23', 'ingreso_05/06/24', 'costo', 'pvp', 'detalle',\n",
      "       'proveedor', 'nota', 'source'],\n",
      "      dtype='object')\n",
      "\n",
      "Sheet Name: juegos\n",
      "Shape: (118, 11)\n",
      "Column Names: Index(['fecha_compra', 'codigo', 'ingreso_14/03/23', 'ingreso_15/07/23',\n",
      "       'ingreso_05/06/24', 'costo', 'pvp', 'detalle', 'proveedor', 'nota',\n",
      "       'source'],\n",
      "      dtype='object')\n",
      "\n",
      "Sheet Name: Varios acero\n",
      "Shape: (4, 9)\n",
      "Column Names: Index(['fecha_compra', 'codigo', 'ingreso_25/06/24', 'costo', 'pvp', 'detalle',\n",
      "       'proveedor', 'nota', 'source'],\n",
      "      dtype='object')\n",
      "\n"
     ]
    }
   ],
   "source": [
    "# 3. Use a for loop to read spreadsheets in sheet_names and append them in a list\n",
    "# Replace the word \"inventario\" in column names with \"ingreso\" to simplify consolidation\n",
    "list_of_df = []\n",
    "for s in sheet_names:\n",
    "    print(f\"Sheet Name: {s}\")\n",
    "    # Read sheet and add new column with sheet name\n",
    "    df = pd.read_excel(file_path, sheet_name=s)\n",
    "    df[\"source\"] = s\n",
    "\n",
    "    # Replace \"invetario\" in column names with \"ingreso\"\n",
    "    df.columns = [c.replace(\"inventario\", \"ingreso\") for c in df.columns]\n",
    "    \n",
    "    # Append and print info\n",
    "    list_of_df.append(df)\n",
    "    print(f\"Shape: {df.shape}\")\n",
    "    print(f\"Column Names: {df.columns}\\n\")"
   ]
  },
  {
   "cell_type": "code",
   "execution_count": 5,
   "metadata": {},
   "outputs": [
    {
     "name": "stdout",
     "output_type": "stream",
     "text": [
      "Sheet Name: all\n",
      "Shape: (852, 29)\n",
      "<class 'pandas.core.frame.DataFrame'>\n",
      "Index: 852 entries, 0 to 3\n",
      "Data columns (total 29 columns):\n",
      " #   Column              Non-Null Count  Dtype  \n",
      "---  ------              --------------  -----  \n",
      " 0   fecha_compra        852 non-null    object \n",
      " 1   codigo              852 non-null    object \n",
      " 2   ingreso_14/03/23    357 non-null    float64\n",
      " 3   ingreso_02/05/23    100 non-null    float64\n",
      " 4   ingreso_19/07/23    21 non-null     float64\n",
      " 5   ingreso_22/08/23    29 non-null     float64\n",
      " 6   ingreso_22/02/24    129 non-null    float64\n",
      " 7   ingreso_27/05/24    19 non-null     float64\n",
      " 8   ingreso_21/06/24    49 non-null     float64\n",
      " 9   costo               852 non-null    float64\n",
      " 10  pvp                 852 non-null    float64\n",
      " 11  detalle             852 non-null    object \n",
      " 12  proveedor           852 non-null    object \n",
      " 13  nota                49 non-null     object \n",
      " 14  source              852 non-null    object \n",
      " 15  ingreso_09/05/23    18 non-null     float64\n",
      " 16  ingreso_30/05/24    1 non-null      float64\n",
      " 17  ingreso_17/07/23    15 non-null     float64\n",
      " 18  ingreso_20/02/24    54 non-null     float64\n",
      " 19  ingreso_27/05/2024  9 non-null      float64\n",
      " 20  ingreso_12/03/24    5 non-null      float64\n",
      " 21  ingreso_31/05/24    16 non-null     float64\n",
      " 22  ingreso_20/06/24    2 non-null      float64\n",
      " 23  ingreso_31/01/24    35 non-null     float64\n",
      " 24  ingreso_15/07/23    14 non-null     float64\n",
      " 25  ingreso 27/05/24    30 non-null     float64\n",
      " 26  ingreso_24/09/22    1 non-null      float64\n",
      " 27  ingreso_05/06/24    27 non-null     float64\n",
      " 28  ingreso_25/06/24    4 non-null      float64\n",
      "dtypes: float64(23), object(6)\n",
      "memory usage: 199.7+ KB\n"
     ]
    }
   ],
   "source": [
    "# Consolidate (concat) spreadsheets in one dataframe\n",
    "all = pd.concat(list_of_df)\n",
    "print(f\"Sheet Name: all\")\n",
    "print(f\"Shape: {all.shape}\")\n",
    "all.info() "
   ]
  },
  {
   "cell_type": "code",
   "execution_count": 6,
   "metadata": {},
   "outputs": [
    {
     "name": "stdout",
     "output_type": "stream",
     "text": [
      "Rows with fecha_compra as string:\n",
      "    fecha_compra  codigo        source\n",
      "10    14/12/2023  SSA011        aretes\n",
      "11    14/12/2023  SSA012        aretes\n",
      "320   27/05/2024  SSA321        aretes\n",
      "321   27/05/2024  SSA322        aretes\n",
      "322   27/05/2024  SSA323        aretes\n",
      "..           ...     ...           ...\n",
      "117    15/6/2024  SSJ118        juegos\n",
      "0     19/11/2023  SSV001  Varios acero\n",
      "1     15/06/2024  SSV002  Varios acero\n",
      "2     15/06/2024  SSV003  Varios acero\n",
      "3     15/06/2024  SSV004  Varios acero\n",
      "\n",
      "[108 rows x 3 columns]\n",
      "\n",
      "New dtype of fecha_compra:\n",
      "<class 'pandas.core.series.Series'>\n",
      "Index: 852 entries, 0 to 3\n",
      "Series name: fecha_compra\n",
      "Non-Null Count  Dtype         \n",
      "--------------  -----         \n",
      "852 non-null    datetime64[ns]\n",
      "dtypes: datetime64[ns](1)\n",
      "memory usage: 13.3 KB\n"
     ]
    },
    {
     "name": "stderr",
     "output_type": "stream",
     "text": [
      "/tmp/ipykernel_1753/3388946937.py:8: UserWarning: The argument 'infer_datetime_format' is deprecated and will be removed in a future version. A strict version of it is now the default, see https://pandas.pydata.org/pdeps/0004-consistent-to-datetime-parsing.html. You can safely remove this argument.\n",
      "  all[\"fecha_compra\"] = pd.to_datetime(all.fecha_compra, infer_datetime_format=True)\n"
     ]
    }
   ],
   "source": [
    "# la columna fecha compra esta definida como objeto y deberia ser tipo date \n",
    "cont_string = all[\"fecha_compra\"].apply(lambda x: isinstance(x, str))\n",
    "print(\"Rows with fecha_compra as string:\")\n",
    "print(all[cont_string][[\"fecha_compra\",\"codigo\", \"source\"]])\n",
    "\n",
    "\n",
    "# Forzamos la transformación a tipo fecha con pd.to_datetime\n",
    "all[\"fecha_compra\"] = pd.to_datetime(all.fecha_compra, infer_datetime_format=True)\n",
    "\n",
    "# Chequeamos nuevamen\n",
    "print(\"\\nNew dtype of fecha_compra:\")\n",
    "all.fecha_compra.info()"
   ]
  },
  {
   "cell_type": "code",
   "execution_count": 7,
   "metadata": {},
   "outputs": [
    {
     "name": "stdout",
     "output_type": "stream",
     "text": [
      "<class 'pandas.core.frame.DataFrame'>\n",
      "Index: 852 entries, 0 to 3\n",
      "Data columns (total 29 columns):\n",
      " #   Column              Non-Null Count  Dtype         \n",
      "---  ------              --------------  -----         \n",
      " 0   fecha_compra        852 non-null    datetime64[ns]\n",
      " 1   codigo              852 non-null    object        \n",
      " 2   ingreso_14/03/23    357 non-null    float64       \n",
      " 3   ingreso_02/05/23    100 non-null    float64       \n",
      " 4   ingreso_19/07/23    21 non-null     float64       \n",
      " 5   ingreso_22/08/23    29 non-null     float64       \n",
      " 6   ingreso_22/02/24    129 non-null    float64       \n",
      " 7   ingreso_27/05/24    19 non-null     float64       \n",
      " 8   ingreso_21/06/24    49 non-null     float64       \n",
      " 9   costo               852 non-null    float64       \n",
      " 10  pvp                 852 non-null    float64       \n",
      " 11  detalle             852 non-null    object        \n",
      " 12  proveedor           852 non-null    object        \n",
      " 13  nota                49 non-null     object        \n",
      " 14  source              852 non-null    object        \n",
      " 15  ingreso_09/05/23    18 non-null     float64       \n",
      " 16  ingreso_30/05/24    1 non-null      float64       \n",
      " 17  ingreso_17/07/23    15 non-null     float64       \n",
      " 18  ingreso_20/02/24    54 non-null     float64       \n",
      " 19  ingreso_27/05/2024  9 non-null      float64       \n",
      " 20  ingreso_12/03/24    5 non-null      float64       \n",
      " 21  ingreso_31/05/24    16 non-null     float64       \n",
      " 22  ingreso_20/06/24    2 non-null      float64       \n",
      " 23  ingreso_31/01/24    35 non-null     float64       \n",
      " 24  ingreso_15/07/23    14 non-null     float64       \n",
      " 25  ingreso 27/05/24    30 non-null     float64       \n",
      " 26  ingreso_24/09/22    1 non-null      float64       \n",
      " 27  ingreso_05/06/24    27 non-null     float64       \n",
      " 28  ingreso_25/06/24    4 non-null      float64       \n",
      "dtypes: datetime64[ns](1), float64(23), object(5)\n",
      "memory usage: 199.7+ KB\n"
     ]
    }
   ],
   "source": [
    "all.info()"
   ]
  },
  {
   "cell_type": "markdown",
   "metadata": {},
   "source": [
    "# 2. Transform (data quality)\n",
    "\n",
    "- 2.1 Verify data types of every column (manual)\n",
    "- 2.2 Check missing values for each column\n",
    "- 2.3 Check ```costo``` or ```pvp``` equal to ```0```\n",
    "- 2.4 Rename provedores using ```proveedores_df```\n",
    "- 2.5 Melt: Dataframe from wide to long format\n"
   ]
  },
  {
   "cell_type": "code",
   "execution_count": 8,
   "metadata": {},
   "outputs": [
    {
     "name": "stdout",
     "output_type": "stream",
     "text": [
      "fecha_compra            0\n",
      "codigo                  0\n",
      "ingreso_14/03/23      495\n",
      "ingreso_02/05/23      752\n",
      "ingreso_19/07/23      831\n",
      "ingreso_22/08/23      823\n",
      "ingreso_22/02/24      723\n",
      "ingreso_27/05/24      833\n",
      "ingreso_21/06/24      803\n",
      "costo                   0\n",
      "pvp                     0\n",
      "detalle                 0\n",
      "proveedor               0\n",
      "nota                  803\n",
      "source                  0\n",
      "ingreso_09/05/23      834\n",
      "ingreso_30/05/24      851\n",
      "ingreso_17/07/23      837\n",
      "ingreso_20/02/24      798\n",
      "ingreso_27/05/2024    843\n",
      "ingreso_12/03/24      847\n",
      "ingreso_31/05/24      836\n",
      "ingreso_20/06/24      850\n",
      "ingreso_31/01/24      817\n",
      "ingreso_15/07/23      838\n",
      "ingreso 27/05/24      822\n",
      "ingreso_24/09/22      851\n",
      "ingreso_05/06/24      825\n",
      "ingreso_25/06/24      848\n",
      "dtype: int64\n"
     ]
    }
   ],
   "source": [
    "# 2.2 Check missing values per columns\n",
    "print(all.isnull().sum())\n",
    "\n",
    "# A. RESULTS\n",
    "# COLNAME: FINDINGS / ACTIONS:\n",
    "# fecha_compra: 4 missings/ Inspect and correct spreadsheet\n",
    "# talla: only anillos should have non missings / No action needed\n",
    "# ingreso_: missings are expected / No action needed\n",
    "# peso: 9 missings / Inspect and corrected in file\n",
    "# costo_gramo: 11 missings / Inspect and corrected in file\n",
    "\n",
    "# B. NOTES:\n",
    "# For juegos_piedras_perlas is ok to have missings in peso and costo gramo"
   ]
  },
  {
   "cell_type": "code",
   "execution_count": 9,
   "metadata": {},
   "outputs": [
    {
     "name": "stdout",
     "output_type": "stream",
     "text": [
      "Missings in fecha_compra:\n",
      "Empty DataFrame\n",
      "Columns: [codigo, source]\n",
      "Index: []\n",
      "\n",
      "Missings in costo:\n",
      "Empty DataFrame\n",
      "Columns: [codigo, source]\n",
      "Index: []\n",
      "\n",
      "Missings pvp :\n",
      "Empty DataFrame\n",
      "Columns: [codigo, source]\n",
      "Index: []\n"
     ]
    }
   ],
   "source": [
    "# INSPECT:\n",
    "# fecha_compra\n",
    "print('Missings in fecha_compra:')\n",
    "print(all.loc[all.fecha_compra.isnull(), ['codigo', 'source']])\n",
    "\n",
    "# costo\n",
    "print('\\nMissings in costo:')\n",
    "print(all.loc[all.costo.isnull(), ['codigo', 'source']])\n",
    "\n",
    "# costo\n",
    "print('\\nMissings pvp :')\n",
    "print(all.loc[all.pvp.isnull(), ['codigo', 'source']])"
   ]
  },
  {
   "cell_type": "code",
   "execution_count": 10,
   "metadata": {},
   "outputs": [
    {
     "name": "stdout",
     "output_type": "stream",
     "text": [
      "Rows with costo <= 0\n",
      "Empty DataFrame\n",
      "Columns: [codigo, source, costo]\n",
      "Index: []\n",
      "\n",
      "Rows with pvp <= 0\n",
      "Empty DataFrame\n",
      "Columns: [codigo, source, pvp, costo]\n",
      "Index: []\n"
     ]
    }
   ],
   "source": [
    "# 2.3 Check costo or pvp <= 0\n",
    "# ACTION NEEDED: Manually fix the file with non-zero values\n",
    "print('Rows with costo <= 0')\n",
    "print(all[all.costo<=0][['codigo', 'source', 'costo']])\n",
    "\n",
    "print('\\nRows with pvp <= 0')\n",
    "print(all[all.pvp<=0][['codigo', 'source', 'pvp', 'costo']])\n",
    "\n"
   ]
  },
  {
   "cell_type": "code",
   "execution_count": 11,
   "metadata": {},
   "outputs": [
    {
     "name": "stdout",
     "output_type": "stream",
     "text": [
      "Unique providers after 1st iteration: \n",
      "['FREDY VARGAS' 'IMPORTADORA PADILLA' 'FABIAN CARVAJAL'\n",
      " 'IMPORTADORA MALES' 'PALACIO JOYAS' 'CIRKON' 'SOLEDAD SAENZ' 'P&K'\n",
      " 'BODY JEWELZ' 'CHINA' 'ANGELICA ANRANGO' 'FABIAN GUZMAN'\n",
      " 'CASA DEL INSUMO' 'IMPORTADORA NUÑEZ' 'XUPING ' 'MILANUS USA'\n",
      " 'FABIAN GUZMAN ' 'CECILIA CACHIMUEL' 'CASA DEL SUMINISTRO'\n",
      " 'JOYERIA MARTHITA CHORDE' 'VENEZIA' 'ANTONIO CALASANZ' 'KEN ' 'ZULENIS'\n",
      " 'VOGA' 'OTAVALO CENTRO' 'CENTRO ' 'XAVIER CASTRO' 'CECILIA CHACHIMUEL'] \n",
      "\n"
     ]
    }
   ],
   "source": [
    "# 2.4 Rename proveedores\n",
    "# Create dictionary where key is old name and values are new name\n",
    "dict_of_proveedores_1 = {k:v for k,v in zip(proveedores_df.Proveedor, proveedores_df['Nuevo Nombre'])}\n",
    "\n",
    "# Use the dictionary to replace old values\n",
    "all['proveedor'] = all.proveedor.replace(dict_of_proveedores_1)\n",
    "\n",
    "# Validate unuique values. Create a list of values that need manual changes\n",
    "print(f'Unique providers after 1st iteration: \\n{all.proveedor.unique()} \\n')\n",
    "\n"
   ]
  },
  {
   "cell_type": "markdown",
   "metadata": {},
   "source": [
    "## 2.5 Melt\n",
    "\n",
    "The pd.melt function in pandas is used to transform a DataFrame from a wide format to a long format. In the wide format, data is typically spread across multiple columns, while in the long format, data is stacked in a single column with an additional column indicating the original variable name (typically the column name in the wide format).\n",
    "\n",
    "Parameters of pd.melt:\n",
    "\n",
    "\t• id_vars: Specifies the columns to keep unchanged (identifier variables). These columns remain unpivoted.\n",
    "\t• value_vars (optional): Specifies the columns to unpivot. If not provided, all columns not specified in id_vars are used.\n",
    "\t• var_name: The name to use for the ‘variable’ column in the resulting DataFrame.\n",
    "\t• value_name: The name to use for the ‘value’ column in the resulting DataFrame."
   ]
  },
  {
   "cell_type": "code",
   "execution_count": 12,
   "metadata": {},
   "outputs": [
    {
     "data": {
      "text/plain": [
       "Index(['fecha_compra', 'codigo', 'ingreso_14/03/23', 'ingreso_02/05/23',\n",
       "       'ingreso_19/07/23', 'ingreso_22/08/23', 'ingreso_22/02/24',\n",
       "       'ingreso_27/05/24', 'ingreso_21/06/24', 'costo', 'pvp', 'detalle',\n",
       "       'proveedor', 'nota', 'source', 'ingreso_09/05/23', 'ingreso_30/05/24',\n",
       "       'ingreso_17/07/23', 'ingreso_20/02/24', 'ingreso_27/05/2024',\n",
       "       'ingreso_12/03/24', 'ingreso_31/05/24', 'ingreso_20/06/24',\n",
       "       'ingreso_31/01/24', 'ingreso_15/07/23', 'ingreso 27/05/24',\n",
       "       'ingreso_24/09/22', 'ingreso_05/06/24', 'ingreso_25/06/24'],\n",
       "      dtype='object')"
      ]
     },
     "execution_count": 12,
     "metadata": {},
     "output_type": "execute_result"
    }
   ],
   "source": [
    "all.columns"
   ]
  },
  {
   "cell_type": "code",
   "execution_count": 30,
   "metadata": {},
   "outputs": [
    {
     "name": "stdout",
     "output_type": "stream",
     "text": [
      "<class 'pandas.core.frame.DataFrame'>\n",
      "Index: 935 entries, 2 to 17891\n",
      "Data columns (total 10 columns):\n",
      " #   Column         Non-Null Count  Dtype         \n",
      "---  ------         --------------  -----         \n",
      " 0   fecha_compra   935 non-null    datetime64[ns]\n",
      " 1   codigo         935 non-null    object        \n",
      " 2   costo          935 non-null    float64       \n",
      " 3   pvp            935 non-null    float64       \n",
      " 4   detalle        935 non-null    object        \n",
      " 5   proveedor      935 non-null    object        \n",
      " 6   nota           71 non-null     object        \n",
      " 7   source         935 non-null    object        \n",
      " 8   fecha_ingreso  935 non-null    object        \n",
      " 9   count_items    935 non-null    int64         \n",
      "dtypes: datetime64[ns](1), float64(2), int64(1), object(6)\n",
      "memory usage: 80.4+ KB\n"
     ]
    }
   ],
   "source": [
    "# Especificar las columnas que no deben ser melted\n",
    "id_vars = ['fecha_compra', 'codigo','costo', 'pvp', 'detalle', 'proveedor', 'nota', \"source\"]\n",
    "\n",
    "# Realizar el melt del dataframe\n",
    "all_melted = pd.melt(all, id_vars=id_vars, var_name='fecha_ingreso', value_name='count_items')\n",
    "\n",
    "# Limpiar la columna 'fecha' para extraer la fecha en el formato correcto\n",
    "all_melted['fecha_ingreso'] = all_melted['fecha_ingreso'].str.replace('ingreso_', '')\n",
    "\n",
    "# Eliminar las filas con valores perdidos en la columna 'items'\n",
    "# Esto corresponde a items que no tienen ingresos registrados\n",
    "all_melted.dropna(subset=['count_items'], inplace=True)\n",
    "\n",
    "#transformar \"count items\" a entero\n",
    "all_melted[\"count_items\"] = all_melted['count_items'].astype(int)\n",
    "\n",
    "all_melted.info()\n",
    "\n"
   ]
  },
  {
   "cell_type": "code",
   "execution_count": 32,
   "metadata": {},
   "outputs": [
    {
     "data": {
      "text/html": [
       "<div>\n",
       "<style scoped>\n",
       "    .dataframe tbody tr th:only-of-type {\n",
       "        vertical-align: middle;\n",
       "    }\n",
       "\n",
       "    .dataframe tbody tr th {\n",
       "        vertical-align: top;\n",
       "    }\n",
       "\n",
       "    .dataframe thead th {\n",
       "        text-align: right;\n",
       "    }\n",
       "</style>\n",
       "<table border=\"1\" class=\"dataframe\">\n",
       "  <thead>\n",
       "    <tr style=\"text-align: right;\">\n",
       "      <th></th>\n",
       "      <th>fecha_compra</th>\n",
       "      <th>codigo</th>\n",
       "      <th>costo</th>\n",
       "      <th>pvp</th>\n",
       "      <th>detalle</th>\n",
       "      <th>proveedor</th>\n",
       "      <th>nota</th>\n",
       "      <th>source</th>\n",
       "      <th>fecha_ingreso</th>\n",
       "      <th>count_items</th>\n",
       "    </tr>\n",
       "  </thead>\n",
       "  <tbody>\n",
       "    <tr>\n",
       "      <th>2</th>\n",
       "      <td>2021-11-23</td>\n",
       "      <td>SSA003</td>\n",
       "      <td>2.00</td>\n",
       "      <td>14.00</td>\n",
       "      <td>dorado semilarg piedras</td>\n",
       "      <td>IMPORTADORA PADILLA</td>\n",
       "      <td>0FERTA</td>\n",
       "      <td>aretes</td>\n",
       "      <td>14/03/23</td>\n",
       "      <td>1</td>\n",
       "    </tr>\n",
       "    <tr>\n",
       "      <th>3</th>\n",
       "      <td>2021-11-23</td>\n",
       "      <td>SSA004</td>\n",
       "      <td>2.50</td>\n",
       "      <td>16.80</td>\n",
       "      <td>dorado indú</td>\n",
       "      <td>IMPORTADORA PADILLA</td>\n",
       "      <td>0FERTA</td>\n",
       "      <td>aretes</td>\n",
       "      <td>14/03/23</td>\n",
       "      <td>3</td>\n",
       "    </tr>\n",
       "    <tr>\n",
       "      <th>8</th>\n",
       "      <td>2023-07-25</td>\n",
       "      <td>SSA009</td>\n",
       "      <td>1.25</td>\n",
       "      <td>8.00</td>\n",
       "      <td>dorado serpiente sircon, cabza verde/unidad</td>\n",
       "      <td>FABIAN CARVAJAL</td>\n",
       "      <td>NaN</td>\n",
       "      <td>aretes</td>\n",
       "      <td>14/03/23</td>\n",
       "      <td>2</td>\n",
       "    </tr>\n",
       "    <tr>\n",
       "      <th>10</th>\n",
       "      <td>2023-12-14</td>\n",
       "      <td>SSA011</td>\n",
       "      <td>0.10</td>\n",
       "      <td>2.00</td>\n",
       "      <td>plateado sircon transp. para nariz</td>\n",
       "      <td>IMPORTADORA MALES</td>\n",
       "      <td>NaN</td>\n",
       "      <td>aretes</td>\n",
       "      <td>14/03/23</td>\n",
       "      <td>39</td>\n",
       "    </tr>\n",
       "    <tr>\n",
       "      <th>11</th>\n",
       "      <td>2023-12-14</td>\n",
       "      <td>SSA012</td>\n",
       "      <td>1.00</td>\n",
       "      <td>8.75</td>\n",
       "      <td>G.filled dorado ortopedico niña</td>\n",
       "      <td>PALACIO JOYAS</td>\n",
       "      <td>NaN</td>\n",
       "      <td>aretes</td>\n",
       "      <td>14/03/23</td>\n",
       "      <td>36</td>\n",
       "    </tr>\n",
       "  </tbody>\n",
       "</table>\n",
       "</div>"
      ],
      "text/plain": [
       "   fecha_compra  codigo  costo    pvp  \\\n",
       "2    2021-11-23  SSA003   2.00  14.00   \n",
       "3    2021-11-23  SSA004   2.50  16.80   \n",
       "8    2023-07-25  SSA009   1.25   8.00   \n",
       "10   2023-12-14  SSA011   0.10   2.00   \n",
       "11   2023-12-14  SSA012   1.00   8.75   \n",
       "\n",
       "                                        detalle            proveedor    nota  \\\n",
       "2                       dorado semilarg piedras  IMPORTADORA PADILLA  0FERTA   \n",
       "3                                   dorado indú  IMPORTADORA PADILLA  0FERTA   \n",
       "8   dorado serpiente sircon, cabza verde/unidad      FABIAN CARVAJAL     NaN   \n",
       "10           plateado sircon transp. para nariz    IMPORTADORA MALES     NaN   \n",
       "11              G.filled dorado ortopedico niña        PALACIO JOYAS     NaN   \n",
       "\n",
       "    source fecha_ingreso  count_items  \n",
       "2   aretes      14/03/23            1  \n",
       "3   aretes      14/03/23            3  \n",
       "8   aretes      14/03/23            2  \n",
       "10  aretes      14/03/23           39  \n",
       "11  aretes      14/03/23           36  "
      ]
     },
     "execution_count": 32,
     "metadata": {},
     "output_type": "execute_result"
    }
   ],
   "source": [
    "all_melted.head()"
   ]
  },
  {
   "cell_type": "markdown",
   "metadata": {},
   "source": [
    "# 3. Load"
   ]
  },
  {
   "cell_type": "code",
   "execution_count": 33,
   "metadata": {},
   "outputs": [
    {
     "name": "stdout",
     "output_type": "stream",
     "text": [
      "El directorio de trabajo actual es: /workspaces/Voga/data_migration\n"
     ]
    }
   ],
   "source": [
    "import os\n",
    "\n",
    "# Obtener el directorio de trabajo actual\n",
    "directorio_actual = os.getcwd()\n",
    "\n",
    "# Imprimir el directorio de trabajo actual\n",
    "print(\"El directorio de trabajo actual es:\", directorio_actual)"
   ]
  },
  {
   "cell_type": "code",
   "execution_count": 35,
   "metadata": {},
   "outputs": [],
   "source": [
    "# 4. Save dataframe as Excel\n",
    "all_melted.to_excel(\"data/clean_files/all_acero_melted.xlsx\", index=False)"
   ]
  },
  {
   "cell_type": "code",
   "execution_count": null,
   "metadata": {},
   "outputs": [],
   "source": []
  }
 ],
 "metadata": {
  "kernelspec": {
   "display_name": "Python 3",
   "language": "python",
   "name": "python3"
  },
  "language_info": {
   "codemirror_mode": {
    "name": "ipython",
    "version": 3
   },
   "file_extension": ".py",
   "mimetype": "text/x-python",
   "name": "python",
   "nbconvert_exporter": "python",
   "pygments_lexer": "ipython3",
   "version": "3.10.13"
  }
 },
 "nbformat": 4,
 "nbformat_minor": 2
}
