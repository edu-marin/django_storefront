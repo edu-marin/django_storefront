{
 "cells": [
  {
   "cell_type": "markdown",
   "metadata": {},
   "source": [
    "### Tarea: Consolidación y Limpieza de Archivos de Inventario de Joyería\n",
    "\n",
    "**Descripción:**\n",
    "\n",
    "#### Objetivo:\n",
    "Consolidar y limpiar los archivos de inventario de plata y acero para obtener un solo dataframe con información consistente y sin valores perdidos en las columnas clave.\n",
    "\n",
    "#### Pasos a seguir:\n",
    "\n",
    "1. **Importación de Archivos:**\n",
    "   - Importar los archivos limpios de plata y acero que se encuentran en la carpeta `data_migration/data/clean_files` en este notebook de Jupyter.\n",
    "   - Verificar que los tipos de columna sean los apropiados y realizar las correcciones necesarias.\n",
    "\n",
    "2. **Añadir Columna de Categoría:**\n",
    "   - Añadir una nueva columna llamada `category` a cada dataframe importado:\n",
    "     - Para el archivo de plata, la columna `category` debe contener el texto \"plata\".\n",
    "     - Para el archivo de acero, la columna `category` debe contener el texto \"acero\".\n",
    "\n",
    "3. **Concatenar Dataframes:**\n",
    "   - Utilizar el método `pd.concat` de pandas para concatenar los dos dataframes y obtener un solo dataframe con todos los inventarios de la joyería.\n",
    "\n",
    "4. **Análisis de Datos Perdidos:**\n",
    "   - Realizar un análisis sobre los datos perdidos en cada columna del dataframe consolidado.\n",
    "   - Identificar si hay valores perdidos en columnas clave como `código`, `proveedor` y `source`.\n",
    "\n",
    "5. **Verificación de Uniformidad de Proveedores:**\n",
    "   - Utilizar el método `value_counts` sobre la columna `proveedor` para verificar que los nombres de los proveedores sean uniformes.\n",
    "   - Si es necesario, utilizar el método `replace` para renombrar los proveedores y tener una lista única.\n",
    "\n",
    "6. **Unificación del Nombre del Tipo de Joya:**\n",
    "   - Crear una nueva columna llamada `tipo` para unificar los nombres de los tipos de joya.\n",
    "   - Partir de la columna `source` que contiene el nombre de la hoja original de la fuente de datos.\n",
    "   - Crear la columna `tipo` a partir de `source`, utilizando el método `copy()`.\n",
    "   - Renombrar los valores únicos en la columna `tipo` utilizando el método `replace` para tener nombres unificados, como por ejemplo \"anillos\" en lugar de \"anillos\" y \"anillos_acero\".\n",
    "\n",
    "7. **Guardar el Dataframe Limpio:**\n",
    "   - Almacenar el dataframe limpio en la carpeta `clean_files` con el nombre `acero_and_plata_consolidated.xlsx`.\n",
    "\n",
    "**Prioridad:** Alta\n",
    "\n",
    "**Responsable:** [Nombre del Responsable]\n",
    "\n",
    "**Fecha de Entrega:** Viernes 2 de agosto de 2024"
   ]
  },
  {
   "cell_type": "markdown",
   "metadata": {},
   "source": [
    "\n",
    "1. **Importación de Archivos:**\n",
    "   - Importar los archivos limpios de plata y acero que se encuentran en la carpeta `data_migration/data/clean_files` en este notebook de Jupyter.\n",
    "   - Verificar que los tipos de columna sean los apropiados y realizar las correcciones necesarias.\n",
    "\n"
   ]
  },
  {
   "cell_type": "code",
   "execution_count": 3,
   "metadata": {},
   "outputs": [],
   "source": [
    "import pandas as pd\n",
    "\n",
    "filepath_plata = \"data/clean_files/all_plata_melted.xlsx\"\n",
    "filepath_acero = \"data/clean_files/all_acero_melted.xlsx\"\n",
    "\n",
    "all_plata = pd.read_excel(filepath_plata)\n",
    "\n",
    "all_acero = pd.read_excel(filepath_acero)\n"
   ]
  },
  {
   "cell_type": "code",
   "execution_count": 4,
   "metadata": {},
   "outputs": [
    {
     "name": "stdout",
     "output_type": "stream",
     "text": [
      "<class 'pandas.core.frame.DataFrame'>\n",
      "RangeIndex: 2883 entries, 0 to 2882\n",
      "Data columns (total 13 columns):\n",
      " #   Column         Non-Null Count  Dtype         \n",
      "---  ------         --------------  -----         \n",
      " 0   fecha_compra   2883 non-null   datetime64[ns]\n",
      " 1   codigo         2883 non-null   object        \n",
      " 2   talla          582 non-null    object        \n",
      " 3   peso           2874 non-null   float64       \n",
      " 4   costo_gramo    2874 non-null   float64       \n",
      " 5   costo          2883 non-null   float64       \n",
      " 6   pvp            2883 non-null   float64       \n",
      " 7   detalle        2883 non-null   object        \n",
      " 8   proveedor      2883 non-null   object        \n",
      " 9   nota           610 non-null    object        \n",
      " 10  source         2883 non-null   object        \n",
      " 11  fecha_ingreso  2883 non-null   datetime64[ns]\n",
      " 12  count_items    2883 non-null   int64         \n",
      "dtypes: datetime64[ns](2), float64(4), int64(1), object(6)\n",
      "memory usage: 292.9+ KB\n"
     ]
    }
   ],
   "source": [
    "all_plata.info()"
   ]
  },
  {
   "cell_type": "code",
   "execution_count": 5,
   "metadata": {},
   "outputs": [
    {
     "name": "stdout",
     "output_type": "stream",
     "text": [
      "<class 'pandas.core.frame.DataFrame'>\n",
      "RangeIndex: 935 entries, 0 to 934\n",
      "Data columns (total 10 columns):\n",
      " #   Column         Non-Null Count  Dtype         \n",
      "---  ------         --------------  -----         \n",
      " 0   fecha_compra   935 non-null    datetime64[ns]\n",
      " 1   codigo         935 non-null    object        \n",
      " 2   costo          935 non-null    float64       \n",
      " 3   pvp            935 non-null    float64       \n",
      " 4   detalle        935 non-null    object        \n",
      " 5   proveedor      935 non-null    object        \n",
      " 6   nota           71 non-null     object        \n",
      " 7   source         935 non-null    object        \n",
      " 8   fecha_ingreso  935 non-null    object        \n",
      " 9   count_items    935 non-null    int64         \n",
      "dtypes: datetime64[ns](1), float64(2), int64(1), object(6)\n",
      "memory usage: 73.2+ KB\n"
     ]
    }
   ],
   "source": [
    "all_acero.info()"
   ]
  },
  {
   "cell_type": "markdown",
   "metadata": {},
   "source": [
    "2. **Añadir Columna de Categoría:**\n",
    "   - Añadir una nueva columna llamada `category` a cada dataframe importado:\n",
    "     - Para el archivo de plata, la columna `category` debe contener el texto \"plata\".\n",
    "     - Para el archivo de acero, la columna `category` debe contener el texto \"acero\"."
   ]
  },
  {
   "cell_type": "code",
   "execution_count": 6,
   "metadata": {},
   "outputs": [
    {
     "name": "stdout",
     "output_type": "stream",
     "text": [
      "<class 'pandas.core.frame.DataFrame'>\n",
      "RangeIndex: 935 entries, 0 to 934\n",
      "Data columns (total 11 columns):\n",
      " #   Column         Non-Null Count  Dtype         \n",
      "---  ------         --------------  -----         \n",
      " 0   fecha_compra   935 non-null    datetime64[ns]\n",
      " 1   codigo         935 non-null    object        \n",
      " 2   costo          935 non-null    float64       \n",
      " 3   pvp            935 non-null    float64       \n",
      " 4   detalle        935 non-null    object        \n",
      " 5   proveedor      935 non-null    object        \n",
      " 6   nota           71 non-null     object        \n",
      " 7   source         935 non-null    object        \n",
      " 8   fecha_ingreso  935 non-null    object        \n",
      " 9   count_items    935 non-null    int64         \n",
      " 10  CATEGORY       935 non-null    object        \n",
      "dtypes: datetime64[ns](1), float64(2), int64(1), object(7)\n",
      "memory usage: 80.5+ KB\n"
     ]
    }
   ],
   "source": [
    "all_acero[\"CATEGORY\"]= \"acero\"\n",
    "\n",
    "all_acero.info()"
   ]
  },
  {
   "cell_type": "code",
   "execution_count": 7,
   "metadata": {},
   "outputs": [
    {
     "name": "stdout",
     "output_type": "stream",
     "text": [
      "<class 'pandas.core.frame.DataFrame'>\n",
      "RangeIndex: 2883 entries, 0 to 2882\n",
      "Data columns (total 14 columns):\n",
      " #   Column         Non-Null Count  Dtype         \n",
      "---  ------         --------------  -----         \n",
      " 0   fecha_compra   2883 non-null   datetime64[ns]\n",
      " 1   codigo         2883 non-null   object        \n",
      " 2   talla          582 non-null    object        \n",
      " 3   peso           2874 non-null   float64       \n",
      " 4   costo_gramo    2874 non-null   float64       \n",
      " 5   costo          2883 non-null   float64       \n",
      " 6   pvp            2883 non-null   float64       \n",
      " 7   detalle        2883 non-null   object        \n",
      " 8   proveedor      2883 non-null   object        \n",
      " 9   nota           610 non-null    object        \n",
      " 10  source         2883 non-null   object        \n",
      " 11  fecha_ingreso  2883 non-null   datetime64[ns]\n",
      " 12  count_items    2883 non-null   int64         \n",
      " 13  CATEGORY       2883 non-null   object        \n",
      "dtypes: datetime64[ns](2), float64(4), int64(1), object(7)\n",
      "memory usage: 315.5+ KB\n"
     ]
    }
   ],
   "source": [
    "all_plata[\"CATEGORY\"] = \"plata\"\n",
    "all_plata.info()"
   ]
  },
  {
   "cell_type": "markdown",
   "metadata": {},
   "source": [
    "3. **Concatenar Dataframes:**\n",
    "   - Utilizar el método `pd.concat` de pandas para concatenar los dos dataframes y obtener un solo dataframe con todos los inventarios de la joyería."
   ]
  },
  {
   "cell_type": "code",
   "execution_count": 8,
   "metadata": {},
   "outputs": [],
   "source": [
    "lista_de_dataframe = [all_plata, all_acero]\n",
    "\n",
    "all_clean_inventory = pd.concat(lista_de_dataframe)\n",
    "\n"
   ]
  },
  {
   "cell_type": "code",
   "execution_count": 9,
   "metadata": {},
   "outputs": [
    {
     "name": "stdout",
     "output_type": "stream",
     "text": [
      "<class 'pandas.core.frame.DataFrame'>\n",
      "Index: 3818 entries, 0 to 934\n",
      "Data columns (total 14 columns):\n",
      " #   Column         Non-Null Count  Dtype         \n",
      "---  ------         --------------  -----         \n",
      " 0   fecha_compra   3818 non-null   datetime64[ns]\n",
      " 1   codigo         3818 non-null   object        \n",
      " 2   talla          582 non-null    object        \n",
      " 3   peso           2874 non-null   float64       \n",
      " 4   costo_gramo    2874 non-null   float64       \n",
      " 5   costo          3818 non-null   float64       \n",
      " 6   pvp            3818 non-null   float64       \n",
      " 7   detalle        3818 non-null   object        \n",
      " 8   proveedor      3818 non-null   object        \n",
      " 9   nota           681 non-null    object        \n",
      " 10  source         3818 non-null   object        \n",
      " 11  fecha_ingreso  3818 non-null   object        \n",
      " 12  count_items    3818 non-null   int64         \n",
      " 13  CATEGORY       3818 non-null   object        \n",
      "dtypes: datetime64[ns](1), float64(4), int64(1), object(8)\n",
      "memory usage: 447.4+ KB\n"
     ]
    }
   ],
   "source": [
    "all_clean_inventory.info()"
   ]
  },
  {
   "cell_type": "markdown",
   "metadata": {},
   "source": [
    "\n",
    "4. **Análisis de Datos Perdidos:**\n",
    "   - Realizar un análisis sobre los datos perdidos en cada columna del dataframe consolidado.\n",
    "   - Identificar si hay valores perdidos en columnas clave como `código`, `proveedor` y `source`."
   ]
  },
  {
   "cell_type": "code",
   "execution_count": 10,
   "metadata": {},
   "outputs": [
    {
     "name": "stdout",
     "output_type": "stream",
     "text": [
      "fecha_compra        0\n",
      "codigo              0\n",
      "talla            3236\n",
      "peso              944\n",
      "costo_gramo       944\n",
      "costo               0\n",
      "pvp                 0\n",
      "detalle             0\n",
      "proveedor           0\n",
      "nota             3137\n",
      "source              0\n",
      "fecha_ingreso       0\n",
      "count_items         0\n",
      "CATEGORY            0\n",
      "dtype: int64\n"
     ]
    }
   ],
   "source": [
    "print(all_clean_inventory.isnull().sum())"
   ]
  },
  {
   "cell_type": "code",
   "execution_count": 11,
   "metadata": {},
   "outputs": [
    {
     "data": {
      "text/plain": [
       "CATEGORY\n",
       "acero    935\n",
       "plata      9\n",
       "Name: count, dtype: int64"
      ]
     },
     "execution_count": 11,
     "metadata": {},
     "output_type": "execute_result"
    }
   ],
   "source": [
    "all_clean_inventory[all_clean_inventory.peso.isnull()].CATEGORY.value_counts()\n"
   ]
  },
  {
   "cell_type": "markdown",
   "metadata": {},
   "source": [
    "5. **Verificación de Uniformidad de Proveedores:**\n",
    "   - Utilizar el método `value_counts` sobre la columna `proveedor` para verificar que los nombres de los proveedores sean uniformes.\n",
    "   - Si es necesario, utilizar el método `replace` para renombrar los proveedores y tener una lista única."
   ]
  },
  {
   "cell_type": "code",
   "execution_count": 12,
   "metadata": {},
   "outputs": [
    {
     "data": {
      "text/plain": [
       "proveedor\n",
       "SOLEDAD SAENZ              986\n",
       "CIRKON                     877\n",
       "VOGA                       466\n",
       "ALPHA TRADING              211\n",
       "FABIAN CARVAJAL            171\n",
       "ANDRES CADAVID             167\n",
       "XAVIER GUILLEN             141\n",
       "FABIAN GUZMAN              108\n",
       "LX USA                      89\n",
       "ALINA PAZ                   77\n",
       "FLAVIO JARA                 67\n",
       "P&K                         47\n",
       "CHINA                       43\n",
       "USA                         42\n",
       "ALEX CASTRO                 38\n",
       "MILANUS USA                 38\n",
       "FREDY VARGAS                32\n",
       "ANGELICA ANRANGO            27\n",
       "ZULENIS                     26\n",
       "JUAN CHALCO                 25\n",
       "IMPORTADORA MALES           21\n",
       "BODY JEWELZ                 19\n",
       "FERNANDO JARA               15\n",
       "IMPORTADORA PADILLA         14\n",
       "CECILIA CACHIMUEL           13\n",
       "MIAMI                        8\n",
       "RIOBAMBA                     7\n",
       "SEMPERTEGUI                  7\n",
       "CASA DEL INSUMO              7\n",
       "ZAFIRO CHORDELEG             5\n",
       "PALACIO JOYAS                4\n",
       "IMPORTADORA NUÑEZ            4\n",
       "KEN                          2\n",
       "CECILIA CHACHIMUEL           2\n",
       "XUPING                       2\n",
       "CENTRO                       2\n",
       "PANAMA                       1\n",
       "GUILLERMO PARRA              1\n",
       "XAVIER CASTRO                1\n",
       "JOYERIA MARTHITA CHORDE      1\n",
       "OTAVALO CENTRO               1\n",
       "VENEZIA                      1\n",
       "ANTONIO CALASANZ             1\n",
       "CASA DEL SUMINISTRO          1\n",
       "Name: count, dtype: int64"
      ]
     },
     "execution_count": 12,
     "metadata": {},
     "output_type": "execute_result"
    }
   ],
   "source": [
    "all_clean_inventory[\"proveedor\"] = all_clean_inventory[\"proveedor\"].str.strip()\n",
    "\n",
    "\n",
    "all_clean_inventory[\"proveedor\"].value_counts()"
   ]
  },
  {
   "cell_type": "markdown",
   "metadata": {},
   "source": [
    "6. **Unificación del Nombre del Tipo de Joya:**\n",
    "   - Crear una nueva columna llamada `tipo` para unificar los nombres de los tipos de joya.\n",
    "   - Partir de la columna `source` que contiene el nombre de la hoja original de la fuente de datos.\n",
    "   - Crear la columna `tipo` a partir de `source`, utilizando el método `copy()`.\n",
    "   - Renombrar los valores únicos en la columna `tipo` utilizando el método `replace` para tener nombres unificados, como por ejemplo \"anillos\" en lugar de \"anillos\" y \"anillos_acero\"."
   ]
  },
  {
   "cell_type": "code",
   "execution_count": 13,
   "metadata": {},
   "outputs": [],
   "source": [
    "all_clean_inventory[\"tipo\"] = all_clean_inventory[\"source\"].copy()\n",
    "\n"
   ]
  },
  {
   "cell_type": "code",
   "execution_count": 14,
   "metadata": {},
   "outputs": [
    {
     "data": {
      "text/plain": [
       "tipo\n",
       "dijes_plata              816\n",
       "aretes_plata             735\n",
       "anillos_plata            583\n",
       "aretes                   451\n",
       "juegos_plata             238\n",
       "pulseras_plata           225\n",
       "cadena_plata             180\n",
       "juegos                   109\n",
       "collares_plata            87\n",
       "pulseras                  81\n",
       "pulseras_varios           72\n",
       "collares                  63\n",
       "dijes                     55\n",
       "anillos                   48\n",
       "cadenas acero             48\n",
       "varios_plata              10\n",
       "juegos_piedras_perlas      9\n",
       "Varios acero               4\n",
       "aretes_pistola             3\n",
       "collares_varios            1\n",
       "Name: count, dtype: int64"
      ]
     },
     "execution_count": 14,
     "metadata": {},
     "output_type": "execute_result"
    }
   ],
   "source": [
    "all_clean_inventory[\"tipo\"].value_counts()"
   ]
  },
  {
   "cell_type": "code",
   "execution_count": 15,
   "metadata": {},
   "outputs": [],
   "source": [
    "all_clean_inventory[\"tipo\"] = all_clean_inventory[\"tipo\"].replace([\"dijes_plata\", \"dijes\"], \"dijes\")\n",
    "\n",
    "all_clean_inventory[\"tipo\"] = all_clean_inventory[\"tipo\"].replace([\"aretes_plata\", \"aretes\", \"aretes_pistola\"], \"aretes\")\n",
    "\n",
    "all_clean_inventory[\"tipo\"] = all_clean_inventory[\"tipo\"].replace([\"anillos_plata\", \"anillos\"], \"anillos\")\n",
    "\n",
    "all_clean_inventory[\"tipo\"] = all_clean_inventory[\"tipo\"].replace([\"juegos_plata\", \"juegos\", \"juegos_piedras_perlas\"], \"juegos\")\n",
    "\n",
    "all_clean_inventory[\"tipo\"] = all_clean_inventory[\"tipo\"].replace([\"pulseras_plata\", \"pulseras\", \"pulseras_varios\"], \"pulseras\")\n",
    "\n",
    "all_clean_inventory[\"tipo\"] = all_clean_inventory[\"tipo\"].replace([\"cadena_plata\", \"cadenas acero\"], \"cadenas\")\n",
    "\n",
    "all_clean_inventory[\"tipo\"] = all_clean_inventory[\"tipo\"].replace([\"collares_plata\", \"collares\", \"collares_varios\"], \"collares\")\n",
    "\n",
    "all_clean_inventory[\"tipo\"] = all_clean_inventory[\"tipo\"].replace([\"varios_plata\", \"Varios acero\"], \"varios\")\n",
    "\n",
    "\n",
    "\n"
   ]
  },
  {
   "cell_type": "code",
   "execution_count": 16,
   "metadata": {},
   "outputs": [
    {
     "data": {
      "text/plain": [
       "tipo\n",
       "aretes      1189\n",
       "dijes        871\n",
       "anillos      631\n",
       "pulseras     378\n",
       "juegos       356\n",
       "cadenas      228\n",
       "collares     151\n",
       "varios        14\n",
       "Name: count, dtype: int64"
      ]
     },
     "execution_count": 16,
     "metadata": {},
     "output_type": "execute_result"
    }
   ],
   "source": [
    "all_clean_inventory[\"tipo\"].value_counts()"
   ]
  },
  {
   "cell_type": "code",
   "execution_count": 17,
   "metadata": {},
   "outputs": [
    {
     "data": {
      "text/html": [
       "<div>\n",
       "<style scoped>\n",
       "    .dataframe tbody tr th:only-of-type {\n",
       "        vertical-align: middle;\n",
       "    }\n",
       "\n",
       "    .dataframe tbody tr th {\n",
       "        vertical-align: top;\n",
       "    }\n",
       "\n",
       "    .dataframe thead th {\n",
       "        text-align: right;\n",
       "    }\n",
       "</style>\n",
       "<table border=\"1\" class=\"dataframe\">\n",
       "  <thead>\n",
       "    <tr style=\"text-align: right;\">\n",
       "      <th></th>\n",
       "      <th>fecha_compra</th>\n",
       "      <th>codigo</th>\n",
       "      <th>talla</th>\n",
       "      <th>peso</th>\n",
       "      <th>costo_gramo</th>\n",
       "      <th>costo</th>\n",
       "      <th>pvp</th>\n",
       "      <th>detalle</th>\n",
       "      <th>proveedor</th>\n",
       "      <th>nota</th>\n",
       "      <th>source</th>\n",
       "      <th>fecha_ingreso</th>\n",
       "      <th>count_items</th>\n",
       "      <th>CATEGORY</th>\n",
       "      <th>tipo</th>\n",
       "    </tr>\n",
       "  </thead>\n",
       "  <tbody>\n",
       "    <tr>\n",
       "      <th>0</th>\n",
       "      <td>2021-11-22</td>\n",
       "      <td>AP001</td>\n",
       "      <td>T6</td>\n",
       "      <td>2.3</td>\n",
       "      <td>2.4</td>\n",
       "      <td>5.52</td>\n",
       "      <td>18.7</td>\n",
       "      <td>llano 2 máscaras</td>\n",
       "      <td>VOGA</td>\n",
       "      <td>NaN</td>\n",
       "      <td>anillos_plata</td>\n",
       "      <td>2023-03-14 00:00:00</td>\n",
       "      <td>2</td>\n",
       "      <td>plata</td>\n",
       "      <td>anillos</td>\n",
       "    </tr>\n",
       "    <tr>\n",
       "      <th>1</th>\n",
       "      <td>2021-11-22</td>\n",
       "      <td>AP001</td>\n",
       "      <td>T7</td>\n",
       "      <td>2.3</td>\n",
       "      <td>2.4</td>\n",
       "      <td>5.52</td>\n",
       "      <td>18.7</td>\n",
       "      <td>llano 2 máscaras</td>\n",
       "      <td>VOGA</td>\n",
       "      <td>NaN</td>\n",
       "      <td>anillos_plata</td>\n",
       "      <td>2023-03-14 00:00:00</td>\n",
       "      <td>1</td>\n",
       "      <td>plata</td>\n",
       "      <td>anillos</td>\n",
       "    </tr>\n",
       "    <tr>\n",
       "      <th>2</th>\n",
       "      <td>2021-11-22</td>\n",
       "      <td>AP001</td>\n",
       "      <td>T9</td>\n",
       "      <td>2.3</td>\n",
       "      <td>2.4</td>\n",
       "      <td>5.52</td>\n",
       "      <td>18.7</td>\n",
       "      <td>llano 2 máscaras</td>\n",
       "      <td>VOGA</td>\n",
       "      <td>NaN</td>\n",
       "      <td>anillos_plata</td>\n",
       "      <td>2023-03-14 00:00:00</td>\n",
       "      <td>1</td>\n",
       "      <td>plata</td>\n",
       "      <td>anillos</td>\n",
       "    </tr>\n",
       "    <tr>\n",
       "      <th>3</th>\n",
       "      <td>2021-11-22</td>\n",
       "      <td>AP002</td>\n",
       "      <td>T4</td>\n",
       "      <td>1.4</td>\n",
       "      <td>2.4</td>\n",
       "      <td>3.36</td>\n",
       "      <td>17.8</td>\n",
       "      <td>llano circulo figura grabada</td>\n",
       "      <td>VOGA</td>\n",
       "      <td>NaN</td>\n",
       "      <td>anillos_plata</td>\n",
       "      <td>2023-03-14 00:00:00</td>\n",
       "      <td>2</td>\n",
       "      <td>plata</td>\n",
       "      <td>anillos</td>\n",
       "    </tr>\n",
       "    <tr>\n",
       "      <th>4</th>\n",
       "      <td>2021-11-22</td>\n",
       "      <td>AP002</td>\n",
       "      <td>T5</td>\n",
       "      <td>1.4</td>\n",
       "      <td>2.4</td>\n",
       "      <td>3.36</td>\n",
       "      <td>17.8</td>\n",
       "      <td>llano circulo figura grabada</td>\n",
       "      <td>VOGA</td>\n",
       "      <td>NaN</td>\n",
       "      <td>anillos_plata</td>\n",
       "      <td>2023-03-14 00:00:00</td>\n",
       "      <td>1</td>\n",
       "      <td>plata</td>\n",
       "      <td>anillos</td>\n",
       "    </tr>\n",
       "    <tr>\n",
       "      <th>...</th>\n",
       "      <td>...</td>\n",
       "      <td>...</td>\n",
       "      <td>...</td>\n",
       "      <td>...</td>\n",
       "      <td>...</td>\n",
       "      <td>...</td>\n",
       "      <td>...</td>\n",
       "      <td>...</td>\n",
       "      <td>...</td>\n",
       "      <td>...</td>\n",
       "      <td>...</td>\n",
       "      <td>...</td>\n",
       "      <td>...</td>\n",
       "      <td>...</td>\n",
       "      <td>...</td>\n",
       "    </tr>\n",
       "    <tr>\n",
       "      <th>930</th>\n",
       "      <td>2024-06-15</td>\n",
       "      <td>SSJ118</td>\n",
       "      <td>NaN</td>\n",
       "      <td>NaN</td>\n",
       "      <td>NaN</td>\n",
       "      <td>3.00</td>\n",
       "      <td>10.5</td>\n",
       "      <td>collar aretes disco manchas leopardo, 3 col</td>\n",
       "      <td>FREDY VARGAS</td>\n",
       "      <td>oferta entrego 25/06/24</td>\n",
       "      <td>juegos</td>\n",
       "      <td>05/06/24</td>\n",
       "      <td>6</td>\n",
       "      <td>acero</td>\n",
       "      <td>juegos</td>\n",
       "    </tr>\n",
       "    <tr>\n",
       "      <th>931</th>\n",
       "      <td>2023-11-19</td>\n",
       "      <td>SSV001</td>\n",
       "      <td>NaN</td>\n",
       "      <td>NaN</td>\n",
       "      <td>NaN</td>\n",
       "      <td>6.00</td>\n",
       "      <td>16.5</td>\n",
       "      <td>prendedor dor perlas</td>\n",
       "      <td>SOLEDAD SAENZ</td>\n",
       "      <td>entrego 5 junio</td>\n",
       "      <td>Varios acero</td>\n",
       "      <td>25/06/24</td>\n",
       "      <td>3</td>\n",
       "      <td>acero</td>\n",
       "      <td>varios</td>\n",
       "    </tr>\n",
       "    <tr>\n",
       "      <th>932</th>\n",
       "      <td>2024-06-15</td>\n",
       "      <td>SSV002</td>\n",
       "      <td>NaN</td>\n",
       "      <td>NaN</td>\n",
       "      <td>NaN</td>\n",
       "      <td>3.00</td>\n",
       "      <td>12.0</td>\n",
       "      <td>pearcing para ombligo, varios</td>\n",
       "      <td>FREDY VARGAS</td>\n",
       "      <td>NaN</td>\n",
       "      <td>Varios acero</td>\n",
       "      <td>25/06/24</td>\n",
       "      <td>9</td>\n",
       "      <td>acero</td>\n",
       "      <td>varios</td>\n",
       "    </tr>\n",
       "    <tr>\n",
       "      <th>933</th>\n",
       "      <td>2024-06-15</td>\n",
       "      <td>SSV003</td>\n",
       "      <td>NaN</td>\n",
       "      <td>NaN</td>\n",
       "      <td>NaN</td>\n",
       "      <td>3.00</td>\n",
       "      <td>14.0</td>\n",
       "      <td>pearcing para nariz media argoll grde circon</td>\n",
       "      <td>FREDY VARGAS</td>\n",
       "      <td>NaN</td>\n",
       "      <td>Varios acero</td>\n",
       "      <td>25/06/24</td>\n",
       "      <td>5</td>\n",
       "      <td>acero</td>\n",
       "      <td>varios</td>\n",
       "    </tr>\n",
       "    <tr>\n",
       "      <th>934</th>\n",
       "      <td>2024-06-15</td>\n",
       "      <td>SSV004</td>\n",
       "      <td>NaN</td>\n",
       "      <td>NaN</td>\n",
       "      <td>NaN</td>\n",
       "      <td>3.00</td>\n",
       "      <td>10.0</td>\n",
       "      <td>pearcing para nariz media argoll med circon</td>\n",
       "      <td>FREDY VARGAS</td>\n",
       "      <td>NaN</td>\n",
       "      <td>Varios acero</td>\n",
       "      <td>25/06/24</td>\n",
       "      <td>12</td>\n",
       "      <td>acero</td>\n",
       "      <td>varios</td>\n",
       "    </tr>\n",
       "  </tbody>\n",
       "</table>\n",
       "<p>3818 rows × 15 columns</p>\n",
       "</div>"
      ],
      "text/plain": [
       "    fecha_compra  codigo talla  peso  costo_gramo  costo   pvp  \\\n",
       "0     2021-11-22   AP001    T6   2.3          2.4   5.52  18.7   \n",
       "1     2021-11-22   AP001    T7   2.3          2.4   5.52  18.7   \n",
       "2     2021-11-22   AP001    T9   2.3          2.4   5.52  18.7   \n",
       "3     2021-11-22   AP002    T4   1.4          2.4   3.36  17.8   \n",
       "4     2021-11-22   AP002    T5   1.4          2.4   3.36  17.8   \n",
       "..           ...     ...   ...   ...          ...    ...   ...   \n",
       "930   2024-06-15  SSJ118   NaN   NaN          NaN   3.00  10.5   \n",
       "931   2023-11-19  SSV001   NaN   NaN          NaN   6.00  16.5   \n",
       "932   2024-06-15  SSV002   NaN   NaN          NaN   3.00  12.0   \n",
       "933   2024-06-15  SSV003   NaN   NaN          NaN   3.00  14.0   \n",
       "934   2024-06-15  SSV004   NaN   NaN          NaN   3.00  10.0   \n",
       "\n",
       "                                          detalle      proveedor  \\\n",
       "0                                llano 2 máscaras           VOGA   \n",
       "1                                llano 2 máscaras           VOGA   \n",
       "2                                llano 2 máscaras           VOGA   \n",
       "3                    llano circulo figura grabada           VOGA   \n",
       "4                    llano circulo figura grabada           VOGA   \n",
       "..                                            ...            ...   \n",
       "930   collar aretes disco manchas leopardo, 3 col   FREDY VARGAS   \n",
       "931                          prendedor dor perlas  SOLEDAD SAENZ   \n",
       "932                 pearcing para ombligo, varios   FREDY VARGAS   \n",
       "933  pearcing para nariz media argoll grde circon   FREDY VARGAS   \n",
       "934   pearcing para nariz media argoll med circon   FREDY VARGAS   \n",
       "\n",
       "                        nota         source        fecha_ingreso  count_items  \\\n",
       "0                        NaN  anillos_plata  2023-03-14 00:00:00            2   \n",
       "1                        NaN  anillos_plata  2023-03-14 00:00:00            1   \n",
       "2                        NaN  anillos_plata  2023-03-14 00:00:00            1   \n",
       "3                        NaN  anillos_plata  2023-03-14 00:00:00            2   \n",
       "4                        NaN  anillos_plata  2023-03-14 00:00:00            1   \n",
       "..                       ...            ...                  ...          ...   \n",
       "930  oferta entrego 25/06/24         juegos             05/06/24            6   \n",
       "931          entrego 5 junio   Varios acero             25/06/24            3   \n",
       "932                      NaN   Varios acero             25/06/24            9   \n",
       "933                      NaN   Varios acero             25/06/24            5   \n",
       "934                      NaN   Varios acero             25/06/24           12   \n",
       "\n",
       "    CATEGORY     tipo  \n",
       "0      plata  anillos  \n",
       "1      plata  anillos  \n",
       "2      plata  anillos  \n",
       "3      plata  anillos  \n",
       "4      plata  anillos  \n",
       "..       ...      ...  \n",
       "930    acero   juegos  \n",
       "931    acero   varios  \n",
       "932    acero   varios  \n",
       "933    acero   varios  \n",
       "934    acero   varios  \n",
       "\n",
       "[3818 rows x 15 columns]"
      ]
     },
     "execution_count": 17,
     "metadata": {},
     "output_type": "execute_result"
    }
   ],
   "source": [
    "all_clean_inventory"
   ]
  },
  {
   "cell_type": "code",
   "execution_count": 18,
   "metadata": {},
   "outputs": [],
   "source": [
    "\n",
    "all_clean_inventory.to_excel(\"data/clean_files/all_clean_inventory.xlsx\", index = False)"
   ]
  }
 ],
 "metadata": {
  "kernelspec": {
   "display_name": "Python 3",
   "language": "python",
   "name": "python3"
  },
  "language_info": {
   "codemirror_mode": {
    "name": "ipython",
    "version": 3
   },
   "file_extension": ".py",
   "mimetype": "text/x-python",
   "name": "python",
   "nbconvert_exporter": "python",
   "pygments_lexer": "ipython3",
   "version": "3.10.13"
  }
 },
 "nbformat": 4,
 "nbformat_minor": 2
}
