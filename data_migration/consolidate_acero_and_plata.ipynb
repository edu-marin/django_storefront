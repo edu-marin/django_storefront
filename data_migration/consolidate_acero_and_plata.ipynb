{
 "cells": [
  {
   "cell_type": "markdown",
   "metadata": {},
   "source": [
    "### Tarea: Consolidación y Limpieza de Archivos de Inventario de Joyería\n",
    "\n",
    "**Descripción:**\n",
    "\n",
    "#### Objetivo:\n",
    "Consolidar y limpiar los archivos de inventario de plata y acero para obtener un solo dataframe con información consistente y sin valores perdidos en las columnas clave.\n",
    "\n",
    "#### Pasos a seguir:\n",
    "\n",
    "1. **Importación de Archivos:**\n",
    "   - Importar los archivos limpios de plata y acero que se encuentran en la carpeta `data_migration/data/clean_files` en este notebook de Jupyter.\n",
    "   - Verificar que los tipos de columna sean los apropiados y realizar las correcciones necesarias.\n",
    "\n",
    "2. **Añadir Columna de Categoría:**\n",
    "   - Añadir una nueva columna llamada `category` a cada dataframe importado:\n",
    "     - Para el archivo de plata, la columna `category` debe contener el texto \"plata\".\n",
    "     - Para el archivo de acero, la columna `category` debe contener el texto \"acero\".\n",
    "\n",
    "3. **Concatenar Dataframes:**\n",
    "   - Utilizar el método `pd.concat` de pandas para concatenar los dos dataframes y obtener un solo dataframe con todos los inventarios de la joyería.\n",
    "\n",
    "4. **Análisis de Datos Perdidos:**\n",
    "   - Realizar un análisis sobre los datos perdidos en cada columna del dataframe consolidado.\n",
    "   - Identificar si hay valores perdidos en columnas clave como `código`, `proveedor` y `source`.\n",
    "\n",
    "5. **Verificación de Uniformidad de Proveedores:**\n",
    "   - Utilizar el método `value_counts` sobre la columna `proveedor` para verificar que los nombres de los proveedores sean uniformes.\n",
    "   - Si es necesario, utilizar el método `replace` para renombrar los proveedores y tener una lista única.\n",
    "\n",
    "6. **Unificación del Nombre del Tipo de Joya:**\n",
    "   - Crear una nueva columna llamada `tipo` para unificar los nombres de los tipos de joya.\n",
    "   - Partir de la columna `source` que contiene el nombre de la hoja original de la fuente de datos.\n",
    "   - Crear la columna `tipo` a partir de `source`, utilizando el método `copy()`.\n",
    "   - Renombrar los valores únicos en la columna `tipo` utilizando el método `replace` para tener nombres unificados, como por ejemplo \"anillos\" en lugar de \"anillos\" y \"anillos_acero\".\n",
    "\n",
    "7. **Guardar el Dataframe Limpio:**\n",
    "   - Almacenar el dataframe limpio en la carpeta `clean_files` con el nombre `acero_and_plata_consolidated.xlsx`.\n",
    "\n",
    "**Prioridad:** Alta\n",
    "\n",
    "**Responsable:** [Nombre del Responsable]\n",
    "\n",
    "**Fecha de Entrega:** Viernes 2 de agosto de 2024"
   ]
  }
 ],
 "metadata": {
  "language_info": {
   "name": "python"
  }
 },
 "nbformat": 4,
 "nbformat_minor": 2
}
