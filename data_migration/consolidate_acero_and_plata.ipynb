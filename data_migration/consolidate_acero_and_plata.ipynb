{
 "cells": [
  {
   "cell_type": "markdown",
   "metadata": {},
   "source": [
    "### Tarea: Consolidación y Limpieza de Archivos de Inventario de Joyería\n",
    "\n",
    "**Descripción:**\n",
    "\n",
    "#### Objetivo:\n",
    "Consolidar y limpiar los archivos de inventario de plata y acero para obtener un solo dataframe con información consistente y sin valores perdidos en las columnas clave.\n",
    "\n",
    "#### Pasos a seguir:\n",
    "\n",
    "1. **Importación de Archivos:**\n",
    "   - Importar los archivos limpios de plata y acero que se encuentran en la carpeta `data_migration/data/clean_files` en este notebook de Jupyter.\n",
    "   - Verificar que los tipos de columna sean los apropiados y realizar las correcciones necesarias.\n",
    "\n",
    "2. **Añadir Columna de Categoría:**\n",
    "   - Añadir una nueva columna llamada `category` a cada dataframe importado:\n",
    "     - Para el archivo de plata, la columna `category` debe contener el texto \"plata\".\n",
    "     - Para el archivo de acero, la columna `category` debe contener el texto \"acero\".\n",
    "\n",
    "3. **Concatenar Dataframes:**\n",
    "   - Utilizar el método `pd.concat` de pandas para concatenar los dos dataframes y obtener un solo dataframe con todos los inventarios de la joyería.\n",
    "\n",
    "4. **Análisis de Datos Perdidos:**\n",
    "   - Realizar un análisis sobre los datos perdidos en cada columna del dataframe consolidado.\n",
    "   - Identificar si hay valores perdidos en columnas clave como `código`, `proveedor` y `source`.\n",
    "\n",
    "5. **Verificación de Uniformidad de Proveedores:**\n",
    "   - Utilizar el método `value_counts` sobre la columna `proveedor` para verificar que los nombres de los proveedores sean uniformes.\n",
    "   - Si es necesario, utilizar el método `replace` para renombrar los proveedores y tener una lista única.\n",
    "\n",
    "6. **Unificación del Nombre del Tipo de Joya:**\n",
    "   - Crear una nueva columna llamada `tipo` para unificar los nombres de los tipos de joya.\n",
    "   - Partir de la columna `source` que contiene el nombre de la hoja original de la fuente de datos.\n",
    "   - Crear la columna `tipo` a partir de `source`, utilizando el método `copy()`.\n",
    "   - Renombrar los valores únicos en la columna `tipo` utilizando el método `replace` para tener nombres unificados, como por ejemplo \"anillos\" en lugar de \"anillos\" y \"anillos_acero\".\n",
    "\n",
    "7. **Guardar el Dataframe Limpio:**\n",
    "   - Almacenar el dataframe limpio en la carpeta `clean_files` con el nombre `acero_and_plata_consolidated.xlsx`.\n",
    "\n",
    "**Prioridad:** Alta\n",
    "\n",
    "**Responsable:** [Nombre del Responsable]\n",
    "\n",
    "**Fecha de Entrega:** Viernes 2 de agosto de 2024"
   ]
  },
  {
   "cell_type": "markdown",
   "metadata": {},
   "source": [
    "\n",
    "1. **Importación de Archivos:**\n",
    "   - Importar los archivos limpios de plata y acero que se encuentran en la carpeta `data_migration/data/clean_files` en este notebook de Jupyter.\n",
    "   - Verificar que los tipos de columna sean los apropiados y realizar las correcciones necesarias.\n",
    "\n"
   ]
  },
  {
   "cell_type": "code",
   "execution_count": 4,
   "metadata": {},
   "outputs": [],
   "source": [
    "import pandas as pd\n",
    "\n",
    "filepath_plata = \"data/clean_files/all_plata_melted.xlsx\"\n",
    "filepath_acero = \"data/clean_files/all_acero_melted.xlsx\"\n",
    "\n",
    "all_plata = pd.read_excel(filepath_plata)\n",
    "\n",
    "all_acero = pd.read_excel(filepath_acero)\n"
   ]
  },
  {
   "cell_type": "code",
   "execution_count": 6,
   "metadata": {},
   "outputs": [
    {
     "name": "stdout",
     "output_type": "stream",
     "text": [
      "<class 'pandas.core.frame.DataFrame'>\n",
      "RangeIndex: 2883 entries, 0 to 2882\n",
      "Data columns (total 13 columns):\n",
      " #   Column         Non-Null Count  Dtype         \n",
      "---  ------         --------------  -----         \n",
      " 0   fecha_compra   2883 non-null   datetime64[ns]\n",
      " 1   codigo         2883 non-null   object        \n",
      " 2   talla          582 non-null    object        \n",
      " 3   peso           2874 non-null   float64       \n",
      " 4   costo_gramo    2874 non-null   float64       \n",
      " 5   costo          2883 non-null   float64       \n",
      " 6   pvp            2883 non-null   float64       \n",
      " 7   detalle        2883 non-null   object        \n",
      " 8   proveedor      2883 non-null   object        \n",
      " 9   nota           610 non-null    object        \n",
      " 10  source         2883 non-null   object        \n",
      " 11  fecha_ingreso  2883 non-null   datetime64[ns]\n",
      " 12  count_items    2883 non-null   int64         \n",
      "dtypes: datetime64[ns](2), float64(4), int64(1), object(6)\n",
      "memory usage: 292.9+ KB\n"
     ]
    }
   ],
   "source": [
    "all_plata.info()"
   ]
  },
  {
   "cell_type": "code",
   "execution_count": 7,
   "metadata": {},
   "outputs": [
    {
     "name": "stdout",
     "output_type": "stream",
     "text": [
      "<class 'pandas.core.frame.DataFrame'>\n",
      "RangeIndex: 935 entries, 0 to 934\n",
      "Data columns (total 10 columns):\n",
      " #   Column         Non-Null Count  Dtype         \n",
      "---  ------         --------------  -----         \n",
      " 0   fecha_compra   935 non-null    datetime64[ns]\n",
      " 1   codigo         935 non-null    object        \n",
      " 2   costo          935 non-null    float64       \n",
      " 3   pvp            935 non-null    float64       \n",
      " 4   detalle        935 non-null    object        \n",
      " 5   proveedor      935 non-null    object        \n",
      " 6   nota           71 non-null     object        \n",
      " 7   source         935 non-null    object        \n",
      " 8   fecha_ingreso  935 non-null    object        \n",
      " 9   count_items    935 non-null    int64         \n",
      "dtypes: datetime64[ns](1), float64(2), int64(1), object(6)\n",
      "memory usage: 73.2+ KB\n"
     ]
    }
   ],
   "source": [
    "all_acero.info()"
   ]
  },
  {
   "cell_type": "markdown",
   "metadata": {},
   "source": [
    "2. **Añadir Columna de Categoría:**\n",
    "   - Añadir una nueva columna llamada `category` a cada dataframe importado:\n",
    "     - Para el archivo de plata, la columna `category` debe contener el texto \"plata\".\n",
    "     - Para el archivo de acero, la columna `category` debe contener el texto \"acero\"."
   ]
  },
  {
   "cell_type": "code",
   "execution_count": 26,
   "metadata": {},
   "outputs": [
    {
     "name": "stdout",
     "output_type": "stream",
     "text": [
      "<class 'pandas.core.frame.DataFrame'>\n",
      "RangeIndex: 935 entries, 0 to 934\n",
      "Data columns (total 12 columns):\n",
      " #   Column         Non-Null Count  Dtype         \n",
      "---  ------         --------------  -----         \n",
      " 0   fecha_compra   935 non-null    datetime64[ns]\n",
      " 1   codigo         935 non-null    object        \n",
      " 2   costo          935 non-null    float64       \n",
      " 3   pvp            935 non-null    float64       \n",
      " 4   detalle        935 non-null    object        \n",
      " 5   proveedor      935 non-null    object        \n",
      " 6   nota           71 non-null     object        \n",
      " 7   source         935 non-null    object        \n",
      " 8   fecha_ingreso  935 non-null    object        \n",
      " 9   count_items    935 non-null    int64         \n",
      " 10  category       935 non-null    object        \n",
      " 11  CATEGORY       935 non-null    object        \n",
      "dtypes: datetime64[ns](1), float64(2), int64(1), object(8)\n",
      "memory usage: 87.8+ KB\n"
     ]
    }
   ],
   "source": [
    "all_acero[\"CATEGORY\"]= \"acero\"\n",
    "\n",
    "all_acero.info()"
   ]
  },
  {
   "cell_type": "code",
   "execution_count": 15,
   "metadata": {},
   "outputs": [
    {
     "name": "stdout",
     "output_type": "stream",
     "text": [
      "<class 'pandas.core.frame.DataFrame'>\n",
      "RangeIndex: 2883 entries, 0 to 2882\n",
      "Data columns (total 14 columns):\n",
      " #   Column         Non-Null Count  Dtype         \n",
      "---  ------         --------------  -----         \n",
      " 0   fecha_compra   2883 non-null   datetime64[ns]\n",
      " 1   codigo         2883 non-null   object        \n",
      " 2   talla          582 non-null    object        \n",
      " 3   peso           2874 non-null   float64       \n",
      " 4   costo_gramo    2874 non-null   float64       \n",
      " 5   costo          2883 non-null   float64       \n",
      " 6   pvp            2883 non-null   float64       \n",
      " 7   detalle        2883 non-null   object        \n",
      " 8   proveedor      2883 non-null   object        \n",
      " 9   nota           610 non-null    object        \n",
      " 10  source         2883 non-null   object        \n",
      " 11  fecha_ingreso  2883 non-null   datetime64[ns]\n",
      " 12  count_items    2883 non-null   int64         \n",
      " 13  CATEGORY       2883 non-null   object        \n",
      "dtypes: datetime64[ns](2), float64(4), int64(1), object(7)\n",
      "memory usage: 315.5+ KB\n"
     ]
    }
   ],
   "source": [
    "all_plata[\"CATEGORY\"] = \"plata\".astype(str)\n",
    "all_plata.info()"
   ]
  },
  {
   "cell_type": "markdown",
   "metadata": {},
   "source": [
    "3. **Concatenar Dataframes:**\n",
    "   - Utilizar el método `pd.concat` de pandas para concatenar los dos dataframes y obtener un solo dataframe con todos los inventarios de la joyería."
   ]
  },
  {
   "cell_type": "code",
   "execution_count": 24,
   "metadata": {},
   "outputs": [],
   "source": [
    "all_clean_inventory = pd.concat([all_plata,all_acero])\n",
    "\n"
   ]
  },
  {
   "cell_type": "code",
   "execution_count": 25,
   "metadata": {},
   "outputs": [
    {
     "name": "stdout",
     "output_type": "stream",
     "text": [
      "<class 'pandas.core.frame.DataFrame'>\n",
      "Index: 3818 entries, 0 to 934\n",
      "Data columns (total 15 columns):\n",
      " #   Column         Non-Null Count  Dtype         \n",
      "---  ------         --------------  -----         \n",
      " 0   fecha_compra   3818 non-null   datetime64[ns]\n",
      " 1   codigo         3818 non-null   object        \n",
      " 2   talla          582 non-null    object        \n",
      " 3   peso           2874 non-null   float64       \n",
      " 4   costo_gramo    2874 non-null   float64       \n",
      " 5   costo          3818 non-null   float64       \n",
      " 6   pvp            3818 non-null   float64       \n",
      " 7   detalle        3818 non-null   object        \n",
      " 8   proveedor      3818 non-null   object        \n",
      " 9   nota           681 non-null    object        \n",
      " 10  source         3818 non-null   object        \n",
      " 11  fecha_ingreso  3818 non-null   object        \n",
      " 12  count_items    3818 non-null   int64         \n",
      " 13  CATEGORY       3818 non-null   object        \n",
      " 14  category       935 non-null    object        \n",
      "dtypes: datetime64[ns](1), float64(4), int64(1), object(9)\n",
      "memory usage: 477.2+ KB\n"
     ]
    }
   ],
   "source": [
    "all_clean_inventory.info()"
   ]
  },
  {
   "cell_type": "markdown",
   "metadata": {},
   "source": []
  }
 ],
 "metadata": {
  "kernelspec": {
   "display_name": "Python 3",
   "language": "python",
   "name": "python3"
  },
  "language_info": {
   "codemirror_mode": {
    "name": "ipython",
    "version": 3
   },
   "file_extension": ".py",
   "mimetype": "text/x-python",
   "name": "python",
   "nbconvert_exporter": "python",
   "pygments_lexer": "ipython3",
   "version": "3.10.13"
  }
 },
 "nbformat": 4,
 "nbformat_minor": 2
}
